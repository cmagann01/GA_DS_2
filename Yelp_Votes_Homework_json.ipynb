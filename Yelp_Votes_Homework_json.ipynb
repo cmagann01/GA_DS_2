{
 "cells": [
  {
   "cell_type": "markdown",
   "metadata": {},
   "source": [
    "# Linear regression homework with Yelp votes"
   ]
  },
  {
   "cell_type": "markdown",
   "metadata": {},
   "source": [
    "## Introduction\n",
    "\n",
    "This assignment uses a small subset of the data from Kaggle's [Yelp Business Rating Prediction](https://www.kaggle.com/c/yelp-recsys-2013) competition.\n",
    "\n",
    "**Description of the data:**\n",
    "\n",
    "- `yelp.json` is the original format of the file. `yelp.csv` contains the same data, in a more convenient format. Both of the files are in this repo, so there is no need to download the data from the Kaggle website.\n",
    "- Each observation in this dataset is a review of a particular business by a particular user.\n",
    "- The \"stars\" column is the number of stars (1 through 5) assigned by the reviewer to the business. (Higher stars is better.) In other words, it is the rating of the business by the person who wrote the review.\n",
    "- The \"cool\" column is the number of \"cool\" votes this review received from other Yelp users. All reviews start with 0 \"cool\" votes, and there is no limit to how many \"cool\" votes a review can receive. In other words, it is a rating of the review itself, not a rating of the business.\n",
    "- The \"useful\" and \"funny\" columns are similar to the \"cool\" column."
   ]
  },
  {
   "cell_type": "markdown",
   "metadata": {},
   "source": [
    "## Task 1\n",
    "\n",
    "Read `yelp.csv` into a DataFrame."
   ]
  },
  {
   "cell_type": "code",
   "execution_count": 29,
   "metadata": {
    "collapsed": true
   },
   "outputs": [],
   "source": []
  },
  {
   "cell_type": "markdown",
   "metadata": {},
   "source": [
    "## Task 1\n",
    "\n",
    "Ignore the `yelp.csv` file, and construct this DataFrame yourself from `yelp.json`. This involves reading the data into Python, decoding the JSON, converting it to a DataFrame, and adding individual columns for each of the vote types."
   ]
  },
  {
   "cell_type": "code",
   "execution_count": 12,
   "metadata": {},
   "outputs": [],
   "source": [
    "    # What I came up with initially\n",
    "# import pandas as pd\n",
    "# df = pd.read_json('C:/Users/cmagann/Desktop/GA_DS/Fork/ds-dc-23/2_dataset/yelp.json', orient=\"records\", lines = True)"
   ]
  },
  {
   "cell_type": "code",
   "execution_count": 13,
   "metadata": {},
   "outputs": [
    {
     "data": {
      "text/html": [
       "<div>\n",
       "<style>\n",
       "    .dataframe thead tr:only-child th {\n",
       "        text-align: right;\n",
       "    }\n",
       "\n",
       "    .dataframe thead th {\n",
       "        text-align: left;\n",
       "    }\n",
       "\n",
       "    .dataframe tbody tr th {\n",
       "        vertical-align: top;\n",
       "    }\n",
       "</style>\n",
       "<table border=\"1\" class=\"dataframe\">\n",
       "  <thead>\n",
       "    <tr style=\"text-align: right;\">\n",
       "      <th></th>\n",
       "      <th>business_id</th>\n",
       "      <th>date</th>\n",
       "      <th>review_id</th>\n",
       "      <th>stars</th>\n",
       "      <th>text</th>\n",
       "      <th>type</th>\n",
       "      <th>user_id</th>\n",
       "      <th>votes</th>\n",
       "    </tr>\n",
       "  </thead>\n",
       "  <tbody>\n",
       "    <tr>\n",
       "      <th>0</th>\n",
       "      <td>9yKzy9PApeiPPOUJEtnvkg</td>\n",
       "      <td>2011-01-26</td>\n",
       "      <td>fWKvX83p0-ka4JS3dc6E5A</td>\n",
       "      <td>5</td>\n",
       "      <td>My wife took me here on my birthday for breakf...</td>\n",
       "      <td>review</td>\n",
       "      <td>rLtl8ZkDX5vH5nAx9C3q5Q</td>\n",
       "      <td>{u'funny': 0, u'useful': 5, u'cool': 2}</td>\n",
       "    </tr>\n",
       "  </tbody>\n",
       "</table>\n",
       "</div>"
      ],
      "text/plain": [
       "              business_id       date               review_id  stars  \\\n",
       "0  9yKzy9PApeiPPOUJEtnvkg 2011-01-26  fWKvX83p0-ka4JS3dc6E5A      5   \n",
       "\n",
       "                                                text    type  \\\n",
       "0  My wife took me here on my birthday for breakf...  review   \n",
       "\n",
       "                  user_id                                    votes  \n",
       "0  rLtl8ZkDX5vH5nAx9C3q5Q  {u'funny': 0, u'useful': 5, u'cool': 2}  "
      ]
     },
     "execution_count": 13,
     "metadata": {},
     "output_type": "execute_result"
    }
   ],
   "source": [
    "# df.head(1)"
   ]
  },
  {
   "cell_type": "code",
   "execution_count": 121,
   "metadata": {
    "collapsed": true
   },
   "outputs": [],
   "source": [
    "import json\n",
    "import pandas as pd\n",
    "with open('C:/Users/cmagann/Desktop/GA_DS/Fork/ds-dc-23/2_dataset/yelp.json', 'rU') as f:\n",
    "    data = [json.loads(row) for row in f]\n",
    "df = pd.io.json.json_normalize(data)"
   ]
  },
  {
   "cell_type": "code",
   "execution_count": 73,
   "metadata": {},
   "outputs": [
    {
     "data": {
      "text/html": [
       "<div>\n",
       "<style>\n",
       "    .dataframe thead tr:only-child th {\n",
       "        text-align: right;\n",
       "    }\n",
       "\n",
       "    .dataframe thead th {\n",
       "        text-align: left;\n",
       "    }\n",
       "\n",
       "    .dataframe tbody tr th {\n",
       "        vertical-align: top;\n",
       "    }\n",
       "</style>\n",
       "<table border=\"1\" class=\"dataframe\">\n",
       "  <thead>\n",
       "    <tr style=\"text-align: right;\">\n",
       "      <th></th>\n",
       "      <th>business_id</th>\n",
       "      <th>date</th>\n",
       "      <th>review_id</th>\n",
       "      <th>stars</th>\n",
       "      <th>text</th>\n",
       "      <th>type</th>\n",
       "      <th>user_id</th>\n",
       "      <th>votes.cool</th>\n",
       "      <th>votes.funny</th>\n",
       "      <th>votes.useful</th>\n",
       "    </tr>\n",
       "  </thead>\n",
       "  <tbody>\n",
       "    <tr>\n",
       "      <th>0</th>\n",
       "      <td>9yKzy9PApeiPPOUJEtnvkg</td>\n",
       "      <td>2011-01-26</td>\n",
       "      <td>fWKvX83p0-ka4JS3dc6E5A</td>\n",
       "      <td>5</td>\n",
       "      <td>My wife took me here on my birthday for breakf...</td>\n",
       "      <td>review</td>\n",
       "      <td>rLtl8ZkDX5vH5nAx9C3q5Q</td>\n",
       "      <td>2</td>\n",
       "      <td>0</td>\n",
       "      <td>5</td>\n",
       "    </tr>\n",
       "  </tbody>\n",
       "</table>\n",
       "</div>"
      ],
      "text/plain": [
       "              business_id        date               review_id  stars  \\\n",
       "0  9yKzy9PApeiPPOUJEtnvkg  2011-01-26  fWKvX83p0-ka4JS3dc6E5A      5   \n",
       "\n",
       "                                                text    type  \\\n",
       "0  My wife took me here on my birthday for breakf...  review   \n",
       "\n",
       "                  user_id  votes.cool  votes.funny  votes.useful  \n",
       "0  rLtl8ZkDX5vH5nAx9C3q5Q           2            0             5  "
      ]
     },
     "execution_count": 73,
     "metadata": {},
     "output_type": "execute_result"
    }
   ],
   "source": [
    "df.head(1)"
   ]
  },
  {
   "cell_type": "code",
   "execution_count": 122,
   "metadata": {},
   "outputs": [],
   "source": [
    "# Rename columns\n",
    "df.columns = df.columns.str.replace('votes.','')\n",
    "df.columns = df.columns.str.replace('review_id','revid')\n",
    "df.columns = df.columns.str.replace('business_id','bizid')\n",
    "df.columns = df.columns.str.replace('user_id','uid')"
   ]
  },
  {
   "cell_type": "code",
   "execution_count": 59,
   "metadata": {},
   "outputs": [
    {
     "data": {
      "text/html": [
       "<div>\n",
       "<style>\n",
       "    .dataframe thead tr:only-child th {\n",
       "        text-align: right;\n",
       "    }\n",
       "\n",
       "    .dataframe thead th {\n",
       "        text-align: left;\n",
       "    }\n",
       "\n",
       "    .dataframe tbody tr th {\n",
       "        vertical-align: top;\n",
       "    }\n",
       "</style>\n",
       "<table border=\"1\" class=\"dataframe\">\n",
       "  <thead>\n",
       "    <tr style=\"text-align: right;\">\n",
       "      <th></th>\n",
       "      <th>bizid</th>\n",
       "      <th>date</th>\n",
       "      <th>revid</th>\n",
       "      <th>stars</th>\n",
       "      <th>text</th>\n",
       "      <th>type</th>\n",
       "      <th>uid</th>\n",
       "      <th>cool</th>\n",
       "      <th>funny</th>\n",
       "      <th>useful</th>\n",
       "    </tr>\n",
       "  </thead>\n",
       "  <tbody>\n",
       "    <tr>\n",
       "      <th>0</th>\n",
       "      <td>9yKzy9PApeiPPOUJEtnvkg</td>\n",
       "      <td>2011-01-26</td>\n",
       "      <td>fWKvX83p0-ka4JS3dc6E5A</td>\n",
       "      <td>5</td>\n",
       "      <td>My wife took me here on my birthday for breakf...</td>\n",
       "      <td>review</td>\n",
       "      <td>rLtl8ZkDX5vH5nAx9C3q5Q</td>\n",
       "      <td>2</td>\n",
       "      <td>0</td>\n",
       "      <td>5</td>\n",
       "    </tr>\n",
       "  </tbody>\n",
       "</table>\n",
       "</div>"
      ],
      "text/plain": [
       "                    bizid        date                   revid  stars  \\\n",
       "0  9yKzy9PApeiPPOUJEtnvkg  2011-01-26  fWKvX83p0-ka4JS3dc6E5A      5   \n",
       "\n",
       "                                                text    type  \\\n",
       "0  My wife took me here on my birthday for breakf...  review   \n",
       "\n",
       "                      uid  cool  funny  useful  \n",
       "0  rLtl8ZkDX5vH5nAx9C3q5Q     2      0       5  "
      ]
     },
     "execution_count": 59,
     "metadata": {},
     "output_type": "execute_result"
    }
   ],
   "source": [
    "df.head(1)"
   ]
  },
  {
   "cell_type": "code",
   "execution_count": 70,
   "metadata": {},
   "outputs": [
    {
     "data": {
      "text/plain": [
       "array([u'bizid', u'date', u'revid', u'stars', u'text', u'type', u'uid',\n",
       "       u'cool', u'funny', u'useful'], dtype=object)"
      ]
     },
     "execution_count": 70,
     "metadata": {},
     "output_type": "execute_result"
    }
   ],
   "source": [
    "df.columns.values"
   ]
  },
  {
   "cell_type": "code",
   "execution_count": 18,
   "metadata": {},
   "outputs": [
    {
     "data": {
      "text/plain": [
       "(10000, 10)"
      ]
     },
     "execution_count": 18,
     "metadata": {},
     "output_type": "execute_result"
    }
   ],
   "source": [
    "df.shape"
   ]
  },
  {
   "cell_type": "code",
   "execution_count": 19,
   "metadata": {
    "scrolled": true
   },
   "outputs": [
    {
     "data": {
      "text/plain": [
       "bizid     object\n",
       "date      object\n",
       "revid     object\n",
       "stars      int64\n",
       "text      object\n",
       "type      object\n",
       "uid       object\n",
       "cool       int64\n",
       "funny      int64\n",
       "useful     int64\n",
       "dtype: object"
      ]
     },
     "execution_count": 19,
     "metadata": {},
     "output_type": "execute_result"
    }
   ],
   "source": [
    "df.dtypes"
   ]
  },
  {
   "cell_type": "code",
   "execution_count": 123,
   "metadata": {},
   "outputs": [],
   "source": [
    "df['date'] = pd.to_datetime(df['date'],errors = 'coerce',infer_datetime_format = True)"
   ]
  },
  {
   "cell_type": "code",
   "execution_count": 61,
   "metadata": {},
   "outputs": [
    {
     "data": {
      "text/plain": [
       "bizid             object\n",
       "date      datetime64[ns]\n",
       "revid             object\n",
       "stars              int64\n",
       "text              object\n",
       "type              object\n",
       "uid               object\n",
       "cool               int64\n",
       "funny              int64\n",
       "useful             int64\n",
       "dtype: object"
      ]
     },
     "execution_count": 61,
     "metadata": {},
     "output_type": "execute_result"
    }
   ],
   "source": [
    "df.dtypes"
   ]
  },
  {
   "cell_type": "code",
   "execution_count": 22,
   "metadata": {
    "scrolled": true
   },
   "outputs": [
    {
     "data": {
      "text/plain": [
       "Index([u'bizid', u'date', u'revid', u'stars', u'text', u'type', u'uid',\n",
       "       u'cool', u'funny', u'useful'],\n",
       "      dtype='object')"
      ]
     },
     "execution_count": 22,
     "metadata": {},
     "output_type": "execute_result"
    }
   ],
   "source": [
    "df.columns"
   ]
  },
  {
   "cell_type": "markdown",
   "metadata": {},
   "source": [
    "## Task 2\n",
    "\n",
    "Explore the relationship between each of the vote types (cool/useful/funny) and the number of stars."
   ]
  },
  {
   "cell_type": "code",
   "execution_count": 124,
   "metadata": {
    "collapsed": true
   },
   "outputs": [],
   "source": [
    "import matplotlib.pyplot as plt\n",
    "import seaborn as sns\n",
    "from scipy import stats\n",
    "import numpy as np"
   ]
  },
  {
   "cell_type": "code",
   "execution_count": 63,
   "metadata": {},
   "outputs": [
    {
     "data": {
      "text/plain": [
       "0"
      ]
     },
     "execution_count": 63,
     "metadata": {},
     "output_type": "execute_result"
    }
   ],
   "source": [
    "df.stars.isnull().sum()"
   ]
  },
  {
   "cell_type": "code",
   "execution_count": 28,
   "metadata": {
    "scrolled": true
   },
   "outputs": [
    {
     "data": {
      "text/plain": [
       "<matplotlib.axes._subplots.AxesSubplot at 0x142451d0>"
      ]
     },
     "execution_count": 28,
     "metadata": {},
     "output_type": "execute_result"
    },
    {
     "data": {
      "image/png": "[encoded data removed]",
      "text/plain": [
       "<matplotlib.figure.Figure at 0x14231978>"
      ]
     },
     "metadata": {},
     "output_type": "display_data"
    }
   ],
   "source": [
    "# treat stars as a categorical variable and look for differences between groups\n",
    "df.plot(x='stars',y='cool',kind='scatter', figsize=(10,10), fontsize=12)"
   ]
  },
  {
   "cell_type": "code",
   "execution_count": 29,
   "metadata": {
    "scrolled": true
   },
   "outputs": [
    {
     "data": {
      "text/plain": [
       "<matplotlib.axes._subplots.AxesSubplot at 0x143a1a20>"
      ]
     },
     "execution_count": 29,
     "metadata": {},
     "output_type": "execute_result"
    },
    {
     "data": {
      "image/png": "[encoded data removed]",
      "text/plain": [
       "<matplotlib.figure.Figure at 0xb634828>"
      ]
     },
     "metadata": {},
     "output_type": "display_data"
    }
   ],
   "source": [
    "df.plot(x='stars',y='funny',kind='scatter', figsize=(10,10), fontsize=12)"
   ]
  },
  {
   "cell_type": "code",
   "execution_count": 30,
   "metadata": {
    "scrolled": true
   },
   "outputs": [
    {
     "data": {
      "text/plain": [
       "<matplotlib.axes._subplots.AxesSubplot at 0x145c2d30>"
      ]
     },
     "execution_count": 30,
     "metadata": {},
     "output_type": "execute_result"
    },
    {
     "data": {
      "image/png": "[encoded data removed]",
      "text/plain": [
       "<matplotlib.figure.Figure at 0x14738f28>"
      ]
     },
     "metadata": {},
     "output_type": "display_data"
    }
   ],
   "source": [
    "df.plot(x='stars',y='useful',kind='scatter', figsize=(10,10), fontsize=12)"
   ]
  },
  {
   "cell_type": "code",
   "execution_count": 19,
   "metadata": {
    "scrolled": false
   },
   "outputs": [
    {
     "data": {
      "text/plain": [
       "<matplotlib.axes._subplots.AxesSubplot at 0x13e42c88>"
      ]
     },
     "execution_count": 19,
     "metadata": {},
     "output_type": "execute_result"
    },
    {
     "data": {
      "image/png": "[encoded data removed]",
      "text/plain": [
       "<matplotlib.figure.Figure at 0x14082cf8>"
      ]
     },
     "metadata": {},
     "output_type": "display_data"
    }
   ],
   "source": [
    "df.stars.value_counts().sort_index().plot(kind='bar', figsize=(5,5), fontsize=14)"
   ]
  },
  {
   "cell_type": "code",
   "execution_count": 31,
   "metadata": {},
   "outputs": [
    {
     "data": {
      "text/plain": [
       "count    10000.000000\n",
       "mean         3.777500\n",
       "std          1.214636\n",
       "min          1.000000\n",
       "25%          3.000000\n",
       "50%          4.000000\n",
       "75%          5.000000\n",
       "max          5.000000\n",
       "Name: stars, dtype: float64"
      ]
     },
     "execution_count": 31,
     "metadata": {},
     "output_type": "execute_result"
    }
   ],
   "source": [
    "df.stars.describe()"
   ]
  },
  {
   "cell_type": "code",
   "execution_count": 32,
   "metadata": {},
   "outputs": [
    {
     "data": {
      "text/html": [
       "<div>\n",
       "<style>\n",
       "    .dataframe thead tr:only-child th {\n",
       "        text-align: right;\n",
       "    }\n",
       "\n",
       "    .dataframe thead th {\n",
       "        text-align: left;\n",
       "    }\n",
       "\n",
       "    .dataframe tbody tr th {\n",
       "        vertical-align: top;\n",
       "    }\n",
       "</style>\n",
       "<table border=\"1\" class=\"dataframe\">\n",
       "  <thead>\n",
       "    <tr style=\"text-align: right;\">\n",
       "      <th></th>\n",
       "      <th>cool</th>\n",
       "      <th>funny</th>\n",
       "      <th>useful</th>\n",
       "    </tr>\n",
       "    <tr>\n",
       "      <th>stars</th>\n",
       "      <th></th>\n",
       "      <th></th>\n",
       "      <th></th>\n",
       "    </tr>\n",
       "  </thead>\n",
       "  <tbody>\n",
       "    <tr>\n",
       "      <th>1</th>\n",
       "      <td>0.576769</td>\n",
       "      <td>1.056075</td>\n",
       "      <td>1.604806</td>\n",
       "    </tr>\n",
       "    <tr>\n",
       "      <th>2</th>\n",
       "      <td>0.719525</td>\n",
       "      <td>0.875944</td>\n",
       "      <td>1.563107</td>\n",
       "    </tr>\n",
       "    <tr>\n",
       "      <th>3</th>\n",
       "      <td>0.788501</td>\n",
       "      <td>0.694730</td>\n",
       "      <td>1.306639</td>\n",
       "    </tr>\n",
       "    <tr>\n",
       "      <th>4</th>\n",
       "      <td>0.954623</td>\n",
       "      <td>0.670448</td>\n",
       "      <td>1.395916</td>\n",
       "    </tr>\n",
       "    <tr>\n",
       "      <th>5</th>\n",
       "      <td>0.944261</td>\n",
       "      <td>0.608631</td>\n",
       "      <td>1.381780</td>\n",
       "    </tr>\n",
       "  </tbody>\n",
       "</table>\n",
       "</div>"
      ],
      "text/plain": [
       "           cool     funny    useful\n",
       "stars                              \n",
       "1      0.576769  1.056075  1.604806\n",
       "2      0.719525  0.875944  1.563107\n",
       "3      0.788501  0.694730  1.306639\n",
       "4      0.954623  0.670448  1.395916\n",
       "5      0.944261  0.608631  1.381780"
      ]
     },
     "execution_count": 32,
     "metadata": {},
     "output_type": "execute_result"
    }
   ],
   "source": [
    "df.groupby('stars').mean()"
   ]
  },
  {
   "cell_type": "code",
   "execution_count": 33,
   "metadata": {},
   "outputs": [
    {
     "data": {
      "text/html": [
       "<div>\n",
       "<style>\n",
       "    .dataframe thead tr:only-child th {\n",
       "        text-align: right;\n",
       "    }\n",
       "\n",
       "    .dataframe thead th {\n",
       "        text-align: left;\n",
       "    }\n",
       "\n",
       "    .dataframe tbody tr th {\n",
       "        vertical-align: top;\n",
       "    }\n",
       "</style>\n",
       "<table border=\"1\" class=\"dataframe\">\n",
       "  <thead>\n",
       "    <tr style=\"text-align: right;\">\n",
       "      <th></th>\n",
       "      <th>stars</th>\n",
       "      <th>cool</th>\n",
       "      <th>funny</th>\n",
       "      <th>useful</th>\n",
       "    </tr>\n",
       "  </thead>\n",
       "  <tbody>\n",
       "    <tr>\n",
       "      <th>stars</th>\n",
       "      <td>1.000000</td>\n",
       "      <td>0.052555</td>\n",
       "      <td>-0.061306</td>\n",
       "      <td>-0.023479</td>\n",
       "    </tr>\n",
       "    <tr>\n",
       "      <th>cool</th>\n",
       "      <td>0.052555</td>\n",
       "      <td>1.000000</td>\n",
       "      <td>0.764342</td>\n",
       "      <td>0.887102</td>\n",
       "    </tr>\n",
       "    <tr>\n",
       "      <th>funny</th>\n",
       "      <td>-0.061306</td>\n",
       "      <td>0.764342</td>\n",
       "      <td>1.000000</td>\n",
       "      <td>0.723406</td>\n",
       "    </tr>\n",
       "    <tr>\n",
       "      <th>useful</th>\n",
       "      <td>-0.023479</td>\n",
       "      <td>0.887102</td>\n",
       "      <td>0.723406</td>\n",
       "      <td>1.000000</td>\n",
       "    </tr>\n",
       "  </tbody>\n",
       "</table>\n",
       "</div>"
      ],
      "text/plain": [
       "           stars      cool     funny    useful\n",
       "stars   1.000000  0.052555 -0.061306 -0.023479\n",
       "cool    0.052555  1.000000  0.764342  0.887102\n",
       "funny  -0.061306  0.764342  1.000000  0.723406\n",
       "useful -0.023479  0.887102  0.723406  1.000000"
      ]
     },
     "execution_count": 33,
     "metadata": {},
     "output_type": "execute_result"
    }
   ],
   "source": [
    "# correlation matrix\n",
    "%matplotlib inline\n",
    "df.corr()"
   ]
  },
  {
   "cell_type": "code",
   "execution_count": 34,
   "metadata": {},
   "outputs": [
    {
     "data": {
      "text/plain": [
       "<matplotlib.axes._subplots.AxesSubplot at 0x14463d68>"
      ]
     },
     "execution_count": 34,
     "metadata": {},
     "output_type": "execute_result"
    },
    {
     "data": {
      "image/png": "[encoded data removed]",
      "text/plain": [
       "<matplotlib.figure.Figure at 0x159696a0>"
      ]
     },
     "metadata": {},
     "output_type": "display_data"
    }
   ],
   "source": [
    "sns.set(font_scale = 1.5)\n",
    "sns.heatmap(df.corr())"
   ]
  },
  {
   "cell_type": "code",
   "execution_count": 92,
   "metadata": {},
   "outputs": [
    {
     "data": {
      "text/plain": [
       "<matplotlib.axes._subplots.AxesSubplot at 0x155d9b38>"
      ]
     },
     "execution_count": 92,
     "metadata": {},
     "output_type": "execute_result"
    },
    {
     "data": {
      "image/png": "[encoded data removed]",
      "text/plain": [
       "<matplotlib.figure.Figure at 0x1572b7f0>"
      ]
     },
     "metadata": {},
     "output_type": "display_data"
    }
   ],
   "source": [
    "# method mean\n",
    "stars = df.groupby('stars').mean()\n",
    "stars.corr()\n",
    "sns.set(font_scale = 1.5)\n",
    "sns.heatmap(data=stars.corr(), annot = True)"
   ]
  },
  {
   "cell_type": "code",
   "execution_count": 89,
   "metadata": {},
   "outputs": [
    {
     "data": {
      "text/plain": [
       "<matplotlib.axes._subplots.AxesSubplot at 0xb861fd0>"
      ]
     },
     "execution_count": 89,
     "metadata": {},
     "output_type": "execute_result"
    },
    {
     "data": {
      "image/png": "[encoded data removed]",
      "text/plain": [
       "<matplotlib.figure.Figure at 0xb8617b8>"
      ]
     },
     "metadata": {},
     "output_type": "display_data"
    }
   ],
   "source": [
    "# method sum\n",
    "stars = df.groupby('stars').sum()\n",
    "stars.corr()\n",
    "sns.set(font_scale = 1.5)\n",
    "sns.heatmap(data=stars.corr(), annot = True)"
   ]
  },
  {
   "cell_type": "markdown",
   "metadata": {},
   "source": [
    "## Task 3\n",
    "\n",
    "Define cool/useful/funny as the features, and stars as the response."
   ]
  },
  {
   "cell_type": "code",
   "execution_count": 28,
   "metadata": {},
   "outputs": [
    {
     "data": {
      "image/png": "[encoded data removed]",
      "text/plain": [
       "<matplotlib.figure.Figure at 0x146e4f98>"
      ]
     },
     "metadata": {},
     "output_type": "display_data"
    }
   ],
   "source": [
    "stars = df.groupby('stars').sum()\n",
    "stars.plot(kind = 'bar')\n",
    "sns.set(font_scale = 1.5)"
   ]
  },
  {
   "cell_type": "code",
   "execution_count": 49,
   "metadata": {
    "collapsed": true
   },
   "outputs": [],
   "source": [
    "# misunderstood task 3 until I read task 4 :)"
   ]
  },
  {
   "cell_type": "code",
   "execution_count": 65,
   "metadata": {},
   "outputs": [],
   "source": [
    "group = ['cool', 'useful', 'funny']\n",
    "X = df[group]\n",
    "y = df.stars"
   ]
  },
  {
   "cell_type": "markdown",
   "metadata": {},
   "source": [
    "## Task 4\n",
    "\n",
    "Fit a linear regression model and interpret the coefficients. Do the coefficients make intuitive sense to you? Explore the Yelp website to see if you detect similar trends."
   ]
  },
  {
   "cell_type": "code",
   "execution_count": 66,
   "metadata": {
    "collapsed": true
   },
   "outputs": [],
   "source": [
    "from sklearn import linear_model"
   ]
  },
  {
   "cell_type": "code",
   "execution_count": 119,
   "metadata": {},
   "outputs": [],
   "source": [
    "df = linear_model.LinearRegression(fit_intercept = True)\n",
    "df.fit(X, y)\n",
    "df_pred = df.predict(X)\n",
    "df_residuals = y-df.predict(X)"
   ]
  },
  {
   "cell_type": "code",
   "execution_count": 68,
   "metadata": {},
   "outputs": [
    {
     "data": {
      "text/plain": [
       "-2.281730360209622e-16"
      ]
     },
     "execution_count": 68,
     "metadata": {},
     "output_type": "execute_result"
    }
   ],
   "source": [
    "df_residuals.mean()"
   ]
  },
  {
   "cell_type": "code",
   "execution_count": 69,
   "metadata": {},
   "outputs": [
    {
     "data": {
      "text/plain": [
       "(array([  1.00000000e+00,   0.00000000e+00,   0.00000000e+00,\n",
       "          0.00000000e+00,   5.04000000e+02,   1.10300000e+03,\n",
       "          1.80900000e+03,   3.87200000e+03,   2.70800000e+03,\n",
       "          3.00000000e+00]),\n",
       " array([-8.75919216, -7.52105628, -6.2829204 , -5.04478452, -3.80664864,\n",
       "        -2.56851276, -1.33037688, -0.092241  ,  1.14589488,  2.38403076,\n",
       "         3.62216664]),\n",
       " <a list of 10 Patch objects>)"
      ]
     },
     "execution_count": 69,
     "metadata": {},
     "output_type": "execute_result"
    },
    {
     "data": {
      "image/png": "[encoded data removed]",
      "text/plain": [
       "<matplotlib.figure.Figure at 0x151f84a8>"
      ]
     },
     "metadata": {},
     "output_type": "display_data"
    }
   ],
   "source": [
    "plt.figure()\n",
    "plt.hist(df_residuals)"
   ]
  },
  {
   "cell_type": "code",
   "execution_count": 42,
   "metadata": {},
   "outputs": [
    {
     "data": {
      "text/plain": [
       "count    1.000000e+04\n",
       "mean    -2.281730e-16\n",
       "std      1.187444e+00\n",
       "min     -8.759192e+00\n",
       "25%     -8.296168e-01\n",
       "50%      1.601052e-01\n",
       "75%      1.160105e+00\n",
       "max      3.622167e+00\n",
       "Name: stars, dtype: float64"
      ]
     },
     "execution_count": 42,
     "metadata": {},
     "output_type": "execute_result"
    }
   ],
   "source": [
    "df_residuals.describe()"
   ]
  },
  {
   "cell_type": "code",
   "execution_count": 52,
   "metadata": {
    "collapsed": true
   },
   "outputs": [],
   "source": [
    "from sklearn.linear_model import LinearRegression"
   ]
  },
  {
   "cell_type": "code",
   "execution_count": 54,
   "metadata": {},
   "outputs": [
    {
     "data": {
      "text/plain": [
       "[('cool', 0.27435946858853061),\n",
       " ('useful', -0.14745239099401478),\n",
       " ('funny', -0.13567449053706179)]"
      ]
     },
     "execution_count": 54,
     "metadata": {},
     "output_type": "execute_result"
    }
   ],
   "source": [
    "lr = LinearRegression()\n",
    "lr.fit(X, y)\n",
    "zip(group, lr.coef_)"
   ]
  },
  {
   "cell_type": "code",
   "execution_count": 77,
   "metadata": {},
   "outputs": [
    {
     "data": {
      "text/plain": [
       "count    10000.000000\n",
       "mean         0.876800\n",
       "std          2.067861\n",
       "min          0.000000\n",
       "25%          0.000000\n",
       "50%          0.000000\n",
       "75%          1.000000\n",
       "max         77.000000\n",
       "Name: cool, dtype: float64"
      ]
     },
     "execution_count": 77,
     "metadata": {},
     "output_type": "execute_result"
    }
   ],
   "source": [
    "df.cool.describe()"
   ]
  },
  {
   "cell_type": "code",
   "execution_count": 78,
   "metadata": {},
   "outputs": [
    {
     "data": {
      "text/plain": [
       "count    10000.000000\n",
       "mean         1.409300\n",
       "std          2.336647\n",
       "min          0.000000\n",
       "25%          0.000000\n",
       "50%          1.000000\n",
       "75%          2.000000\n",
       "max         76.000000\n",
       "Name: useful, dtype: float64"
      ]
     },
     "execution_count": 78,
     "metadata": {},
     "output_type": "execute_result"
    }
   ],
   "source": [
    "df.useful.describe()"
   ]
  },
  {
   "cell_type": "code",
   "execution_count": 79,
   "metadata": {},
   "outputs": [
    {
     "data": {
      "text/plain": [
       "count    10000.000000\n",
       "mean         0.701300\n",
       "std          1.907942\n",
       "min          0.000000\n",
       "25%          0.000000\n",
       "50%          0.000000\n",
       "75%          1.000000\n",
       "max         57.000000\n",
       "Name: funny, dtype: float64"
      ]
     },
     "execution_count": 79,
     "metadata": {},
     "output_type": "execute_result"
    }
   ],
   "source": [
    "df.funny.describe()"
   ]
  },
  {
   "cell_type": "markdown",
   "metadata": {},
   "source": [
    "## Task 5\n",
    "\n",
    "Evaluate the model by splitting it into training and testing sets and computing the RMSE. Does the RMSE make intuitive sense to you?"
   ]
  },
  {
   "cell_type": "code",
   "execution_count": 81,
   "metadata": {},
   "outputs": [],
   "source": [
    "from sklearn.cross_validation import train_test_split\n",
    "from sklearn import metrics"
   ]
  },
  {
   "cell_type": "code",
   "execution_count": 86,
   "metadata": {
    "collapsed": true
   },
   "outputs": [],
   "source": [
    "    # define a function that accepts a list of features and returns testing RMSE\n",
    "def train_test_rmse(group):\n",
    "    X = df[group]\n",
    "    # y = df.total\n",
    "    y = df.stars\n",
    "    X_train, X_test, y_train, y_test = train_test_split(X, y, random_state=123)\n",
    "    linreg = LinearRegression()\n",
    "    linreg.fit(X_train, y_train)\n",
    "    y_pred = linreg.predict(X_test)\n",
    "    return np.sqrt(metrics.mean_squared_error(y_test, y_pred))"
   ]
  },
  {
   "cell_type": "code",
   "execution_count": 87,
   "metadata": {},
   "outputs": [
    {
     "name": "stdout",
     "output_type": "stream",
     "text": [
      "1.17336862742\n"
     ]
    }
   ],
   "source": [
    "    # calculate RMSE with all three features\n",
    "print(train_test_rmse(['cool', 'useful', 'funny']))\n",
    "# close to 1, all right!"
   ]
  },
  {
   "cell_type": "markdown",
   "metadata": {},
   "source": [
    "## Task 6\n",
    "\n",
    "Try removing some of the features and see if the RMSE improves."
   ]
  },
  {
   "cell_type": "code",
   "execution_count": 88,
   "metadata": {},
   "outputs": [
    {
     "name": "stdout",
     "output_type": "stream",
     "text": [
      "1.20070113589\n"
     ]
    }
   ],
   "source": [
    "print(train_test_rmse(['useful', 'funny']))"
   ]
  },
  {
   "cell_type": "code",
   "execution_count": 90,
   "metadata": {},
   "outputs": [
    {
     "name": "stdout",
     "output_type": "stream",
     "text": [
      "1.1851949299\n"
     ]
    }
   ],
   "source": [
    "print(train_test_rmse(['cool', 'funny']))"
   ]
  },
  {
   "cell_type": "code",
   "execution_count": 91,
   "metadata": {},
   "outputs": [
    {
     "name": "stdout",
     "output_type": "stream",
     "text": [
      "1.18537944234\n"
     ]
    }
   ],
   "source": [
    "print(train_test_rmse(['cool', 'useful']))"
   ]
  },
  {
   "cell_type": "markdown",
   "metadata": {},
   "source": [
    "## Task 7 (Bonus)\n",
    "\n",
    "Think of some new features you could create from the existing data that might be predictive of the response. Figure out how to create those features in Pandas, add them to your model, and see if the RMSE improves."
   ]
  },
  {
   "cell_type": "code",
   "execution_count": 97,
   "metadata": {},
   "outputs": [
    {
     "data": {
      "text/plain": [
       "array([u'bizid', u'date', u'revid', u'stars', u'text', u'type', u'uid',\n",
       "       u'cool', u'funny', u'useful'], dtype=object)"
      ]
     },
     "execution_count": 97,
     "metadata": {},
     "output_type": "execute_result"
    }
   ],
   "source": [
    "df.columns.values"
   ]
  },
  {
   "cell_type": "code",
   "execution_count": 102,
   "metadata": {
    "collapsed": true
   },
   "outputs": [],
   "source": [
    "    # new feature: review length (number of characters)\n",
    "# df['text length'] = df['text'].apply\n",
    "df['text length'] = df['text'].apply(len)"
   ]
  },
  {
   "cell_type": "code",
   "execution_count": 103,
   "metadata": {},
   "outputs": [
    {
     "data": {
      "text/html": [
       "<div>\n",
       "<style>\n",
       "    .dataframe thead tr:only-child th {\n",
       "        text-align: right;\n",
       "    }\n",
       "\n",
       "    .dataframe thead th {\n",
       "        text-align: left;\n",
       "    }\n",
       "\n",
       "    .dataframe tbody tr th {\n",
       "        vertical-align: top;\n",
       "    }\n",
       "</style>\n",
       "<table border=\"1\" class=\"dataframe\">\n",
       "  <thead>\n",
       "    <tr style=\"text-align: right;\">\n",
       "      <th></th>\n",
       "      <th>bizid</th>\n",
       "      <th>date</th>\n",
       "      <th>revid</th>\n",
       "      <th>stars</th>\n",
       "      <th>text</th>\n",
       "      <th>type</th>\n",
       "      <th>uid</th>\n",
       "      <th>cool</th>\n",
       "      <th>funny</th>\n",
       "      <th>useful</th>\n",
       "      <th>text length</th>\n",
       "    </tr>\n",
       "  </thead>\n",
       "  <tbody>\n",
       "    <tr>\n",
       "      <th>0</th>\n",
       "      <td>9yKzy9PApeiPPOUJEtnvkg</td>\n",
       "      <td>2011-01-26</td>\n",
       "      <td>fWKvX83p0-ka4JS3dc6E5A</td>\n",
       "      <td>5</td>\n",
       "      <td>My wife took me here on my birthday for breakf...</td>\n",
       "      <td>review</td>\n",
       "      <td>rLtl8ZkDX5vH5nAx9C3q5Q</td>\n",
       "      <td>2</td>\n",
       "      <td>0</td>\n",
       "      <td>5</td>\n",
       "      <td>889</td>\n",
       "    </tr>\n",
       "  </tbody>\n",
       "</table>\n",
       "</div>"
      ],
      "text/plain": [
       "                    bizid       date                   revid  stars  \\\n",
       "0  9yKzy9PApeiPPOUJEtnvkg 2011-01-26  fWKvX83p0-ka4JS3dc6E5A      5   \n",
       "\n",
       "                                                text    type  \\\n",
       "0  My wife took me here on my birthday for breakf...  review   \n",
       "\n",
       "                      uid  cool  funny  useful  text length  \n",
       "0  rLtl8ZkDX5vH5nAx9C3q5Q     2      0       5          889  "
      ]
     },
     "execution_count": 103,
     "metadata": {},
     "output_type": "execute_result"
    }
   ],
   "source": [
    "df.head(1)"
   ]
  },
  {
   "cell_type": "code",
   "execution_count": 141,
   "metadata": {},
   "outputs": [
    {
     "data": {
      "text/html": [
       "<div>\n",
       "<style>\n",
       "    .dataframe thead tr:only-child th {\n",
       "        text-align: right;\n",
       "    }\n",
       "\n",
       "    .dataframe thead th {\n",
       "        text-align: left;\n",
       "    }\n",
       "\n",
       "    .dataframe tbody tr th {\n",
       "        vertical-align: top;\n",
       "    }\n",
       "</style>\n",
       "<table border=\"1\" class=\"dataframe\">\n",
       "  <thead>\n",
       "    <tr style=\"text-align: right;\">\n",
       "      <th></th>\n",
       "      <th>bizid</th>\n",
       "      <th>date</th>\n",
       "      <th>revid</th>\n",
       "      <th>stars</th>\n",
       "      <th>text</th>\n",
       "      <th>type</th>\n",
       "      <th>uid</th>\n",
       "      <th>cool</th>\n",
       "      <th>funny</th>\n",
       "      <th>useful</th>\n",
       "    </tr>\n",
       "  </thead>\n",
       "  <tbody>\n",
       "    <tr>\n",
       "      <th>41</th>\n",
       "      <td>qsThMZ3lXWYLN4t08ScsNA</td>\n",
       "      <td>2009-03-13</td>\n",
       "      <td>fuY6Bf4EtW3UwrdLQJa9_Q</td>\n",
       "      <td>4</td>\n",
       "      <td>i really really like frances.  i love most of ...</td>\n",
       "      <td>review</td>\n",
       "      <td>W_QXYA7A0IhMrvbckz7eVg</td>\n",
       "      <td>2</td>\n",
       "      <td>1</td>\n",
       "      <td>2</td>\n",
       "    </tr>\n",
       "    <tr>\n",
       "      <th>56</th>\n",
       "      <td>tA2DT7CGQPzgA6tTcTkXDw</td>\n",
       "      <td>2009-09-02</td>\n",
       "      <td>VyX6x7wnThr9g9Z6VBDIgA</td>\n",
       "      <td>2</td>\n",
       "      <td>i have to add to andrew's review.....\\n\\ni jus...</td>\n",
       "      <td>review</td>\n",
       "      <td>UL9chyH0a4Pj8J_9M6WSpA</td>\n",
       "      <td>1</td>\n",
       "      <td>2</td>\n",
       "      <td>2</td>\n",
       "    </tr>\n",
       "    <tr>\n",
       "      <th>147</th>\n",
       "      <td>MLPUSpkbWAvr9gJOELKqmQ</td>\n",
       "      <td>2011-03-24</td>\n",
       "      <td>hQUn4oL-6qnjma8indhLNw</td>\n",
       "      <td>2</td>\n",
       "      <td>went here for the first time a few weeks ago. ...</td>\n",
       "      <td>review</td>\n",
       "      <td>nH0YyEYTE7RMeAbeERrSQA</td>\n",
       "      <td>1</td>\n",
       "      <td>1</td>\n",
       "      <td>2</td>\n",
       "    </tr>\n",
       "    <tr>\n",
       "      <th>188</th>\n",
       "      <td>pdxyZdnwltQXcu-kD5rpXQ</td>\n",
       "      <td>2007-01-22</td>\n",
       "      <td>kUw0d4RX-tp32zmP-XwkXw</td>\n",
       "      <td>5</td>\n",
       "      <td>screw disneyland- sephora is the happiest plac...</td>\n",
       "      <td>review</td>\n",
       "      <td>0CMz8YaO3f8xu4KqQgKb9Q</td>\n",
       "      <td>0</td>\n",
       "      <td>4</td>\n",
       "      <td>0</td>\n",
       "    </tr>\n",
       "    <tr>\n",
       "      <th>212</th>\n",
       "      <td>yPJFfglhMHAKciUpjTmgBg</td>\n",
       "      <td>2011-12-27</td>\n",
       "      <td>TkTbb-JkRsdtD5wplSGEtw</td>\n",
       "      <td>1</td>\n",
       "      <td>i had not been to an oregano's in like 10 year...</td>\n",
       "      <td>review</td>\n",
       "      <td>KucBnMrhalzxnD9AWrxwYQ</td>\n",
       "      <td>2</td>\n",
       "      <td>0</td>\n",
       "      <td>4</td>\n",
       "    </tr>\n",
       "    <tr>\n",
       "      <th>289</th>\n",
       "      <td>l3yL2rQ6PoFBQ06RLczn9w</td>\n",
       "      <td>2010-08-21</td>\n",
       "      <td>Cluf-ijd2Ubr0hoVjLXoSQ</td>\n",
       "      <td>1</td>\n",
       "      <td>i'd say i've been to the clubhouse a few times...</td>\n",
       "      <td>review</td>\n",
       "      <td>80PHOfM8KOBb7xEQN4C0lg</td>\n",
       "      <td>0</td>\n",
       "      <td>0</td>\n",
       "      <td>0</td>\n",
       "    </tr>\n",
       "    <tr>\n",
       "      <th>304</th>\n",
       "      <td>B8ujMtvvpHyEQ2r_QlAT2w</td>\n",
       "      <td>2009-02-04</td>\n",
       "      <td>lkXM8gxdU1qQVCHggDfsyQ</td>\n",
       "      <td>4</td>\n",
       "      <td>i didn't pay much attention to this place for ...</td>\n",
       "      <td>review</td>\n",
       "      <td>zsBmBMbZhPuWKueEyKoI1Q</td>\n",
       "      <td>0</td>\n",
       "      <td>0</td>\n",
       "      <td>0</td>\n",
       "    </tr>\n",
       "    <tr>\n",
       "      <th>314</th>\n",
       "      <td>eR_vyBCRhMQKhmHbxFkPVw</td>\n",
       "      <td>2008-12-11</td>\n",
       "      <td>yt_CpzmwoSv3NPGNcHzI-w</td>\n",
       "      <td>4</td>\n",
       "      <td>so wednesday evening i needed milk and cat foo...</td>\n",
       "      <td>review</td>\n",
       "      <td>Ps1Db9zOatoF_76FZNO5CQ</td>\n",
       "      <td>0</td>\n",
       "      <td>0</td>\n",
       "      <td>3</td>\n",
       "    </tr>\n",
       "    <tr>\n",
       "      <th>382</th>\n",
       "      <td>IVc23uY-36WUNYoIbz42Fg</td>\n",
       "      <td>2012-12-13</td>\n",
       "      <td>ig5kYd1TvqHtnDu_AJH13g</td>\n",
       "      <td>5</td>\n",
       "      <td>i had the best culinary experience of my 8 yea...</td>\n",
       "      <td>review</td>\n",
       "      <td>aB_1_t8nAUHkS2nAFxcW0A</td>\n",
       "      <td>1</td>\n",
       "      <td>2</td>\n",
       "      <td>1</td>\n",
       "    </tr>\n",
       "    <tr>\n",
       "      <th>401</th>\n",
       "      <td>OOCLVeqqMFfSnKa7liv0Kw</td>\n",
       "      <td>2012-11-04</td>\n",
       "      <td>9NrXM5p0sssVJiVgvFmwdw</td>\n",
       "      <td>4</td>\n",
       "      <td>this is an open-air mall.  unlike most malls w...</td>\n",
       "      <td>review</td>\n",
       "      <td>Mb0psF4WQF7gZSuZafVr-g</td>\n",
       "      <td>0</td>\n",
       "      <td>0</td>\n",
       "      <td>0</td>\n",
       "    </tr>\n",
       "    <tr>\n",
       "      <th>406</th>\n",
       "      <td>bc-lE-wGVAsUrX-kJhtY-Q</td>\n",
       "      <td>2008-04-01</td>\n",
       "      <td>Tx0t7Jr6K7UicgbWympFsA</td>\n",
       "      <td>2</td>\n",
       "      <td>this place was so bad on so many levels i'm no...</td>\n",
       "      <td>review</td>\n",
       "      <td>lPaYMDmJbAnv_3pmZH_inw</td>\n",
       "      <td>4</td>\n",
       "      <td>1</td>\n",
       "      <td>10</td>\n",
       "    </tr>\n",
       "    <tr>\n",
       "      <th>425</th>\n",
       "      <td>HhNY3X0kyrN5682La6N6Cg</td>\n",
       "      <td>2011-05-12</td>\n",
       "      <td>4qZB6JCWSeUwWoCPu5_UWA</td>\n",
       "      <td>5</td>\n",
       "      <td>i love boba drinks but hate the word \"boba\". i...</td>\n",
       "      <td>review</td>\n",
       "      <td>b6CyeouS97Y8YSTi8T2xRg</td>\n",
       "      <td>1</td>\n",
       "      <td>0</td>\n",
       "      <td>4</td>\n",
       "    </tr>\n",
       "    <tr>\n",
       "      <th>437</th>\n",
       "      <td>Xq9tkiHhyN_aBFswFeGLvA</td>\n",
       "      <td>2011-03-21</td>\n",
       "      <td>cVDmpkto6Fs-LwCkxKPx3g</td>\n",
       "      <td>2</td>\n",
       "      <td>i think all the 5 star reviews are from people...</td>\n",
       "      <td>review</td>\n",
       "      <td>zNR8Q6Fw9UvlVSgxwEy-3Q</td>\n",
       "      <td>3</td>\n",
       "      <td>1</td>\n",
       "      <td>10</td>\n",
       "    </tr>\n",
       "    <tr>\n",
       "      <th>482</th>\n",
       "      <td>81a6sTDzNzsRsoUETeoBRA</td>\n",
       "      <td>2009-06-09</td>\n",
       "      <td>BuOszvE0-Edv9xbFtmXt8A</td>\n",
       "      <td>2</td>\n",
       "      <td>yelp has failed me...i went here based on the ...</td>\n",
       "      <td>review</td>\n",
       "      <td>DeYRUi2YEFYZLZ1ukOGd6w</td>\n",
       "      <td>0</td>\n",
       "      <td>0</td>\n",
       "      <td>0</td>\n",
       "    </tr>\n",
       "    <tr>\n",
       "      <th>489</th>\n",
       "      <td>x_2kKQYLSRsa2OgPmGgWCw</td>\n",
       "      <td>2008-04-26</td>\n",
       "      <td>b9kdLLhQR8QulzYYMVb5Iw</td>\n",
       "      <td>4</td>\n",
       "      <td>4.5 stars\\n\\nok....i just had the most amazing...</td>\n",
       "      <td>review</td>\n",
       "      <td>ca2Sa9Enqg2GlWFQ95p8bw</td>\n",
       "      <td>1</td>\n",
       "      <td>0</td>\n",
       "      <td>2</td>\n",
       "    </tr>\n",
       "    <tr>\n",
       "      <th>596</th>\n",
       "      <td>cof7qW-PD0M7Jykclg48oQ</td>\n",
       "      <td>2008-06-10</td>\n",
       "      <td>3zMROSt7HNbyq7Lp-MzaWA</td>\n",
       "      <td>4</td>\n",
       "      <td>i used to live off this place. they cut their ...</td>\n",
       "      <td>review</td>\n",
       "      <td>Cp-PV8rsypbO-xBrQ6KmQg</td>\n",
       "      <td>3</td>\n",
       "      <td>4</td>\n",
       "      <td>6</td>\n",
       "    </tr>\n",
       "    <tr>\n",
       "      <th>604</th>\n",
       "      <td>KGX7O-_WqOIy9o7u9NOa9A</td>\n",
       "      <td>2010-05-05</td>\n",
       "      <td>mf3osxL0XKEwcJ37tWzOMg</td>\n",
       "      <td>5</td>\n",
       "      <td>yes, it is small, yes, it takes time to get yo...</td>\n",
       "      <td>review</td>\n",
       "      <td>pcYFt1EjfOizhvRJDiz3AA</td>\n",
       "      <td>1</td>\n",
       "      <td>0</td>\n",
       "      <td>1</td>\n",
       "    </tr>\n",
       "    <tr>\n",
       "      <th>614</th>\n",
       "      <td>UUssRgBCO_riWg3chbv9Zg</td>\n",
       "      <td>2011-12-27</td>\n",
       "      <td>gNepvdQlS4feEB92g33qVw</td>\n",
       "      <td>2</td>\n",
       "      <td>not impressed. beer was cold, but bar keep was...</td>\n",
       "      <td>review</td>\n",
       "      <td>VaLglvhXegtW1OMF6_Xfag</td>\n",
       "      <td>0</td>\n",
       "      <td>0</td>\n",
       "      <td>0</td>\n",
       "    </tr>\n",
       "    <tr>\n",
       "      <th>620</th>\n",
       "      <td>FGePlnlKXHxBrxYMNGtdAw</td>\n",
       "      <td>2011-03-25</td>\n",
       "      <td>mIhNUhDZqzUM6xstFv7lGg</td>\n",
       "      <td>5</td>\n",
       "      <td>i love you, marquee theatre. \\n\\njust last nig...</td>\n",
       "      <td>review</td>\n",
       "      <td>eL2AbD_vXdP57eewFH21lQ</td>\n",
       "      <td>2</td>\n",
       "      <td>1</td>\n",
       "      <td>1</td>\n",
       "    </tr>\n",
       "    <tr>\n",
       "      <th>644</th>\n",
       "      <td>9Vu9KhK2-kBSM-FXvxXGNg</td>\n",
       "      <td>2009-11-11</td>\n",
       "      <td>mD0e-9jhmbG13jNxYcIg7Q</td>\n",
       "      <td>3</td>\n",
       "      <td>for quick fast food.. this is my choice.. i us...</td>\n",
       "      <td>review</td>\n",
       "      <td>sALB8-F04S9VcZMF_GkGUA</td>\n",
       "      <td>1</td>\n",
       "      <td>1</td>\n",
       "      <td>2</td>\n",
       "    </tr>\n",
       "    <tr>\n",
       "      <th>673</th>\n",
       "      <td>xsSnuGCCJD4OgWnOZ0zB4A</td>\n",
       "      <td>2011-10-28</td>\n",
       "      <td>8u4Zx8HOdKGIUdFzjqqXFw</td>\n",
       "      <td>3</td>\n",
       "      <td>really mixed feelings here. met a friend here ...</td>\n",
       "      <td>review</td>\n",
       "      <td>aidmFfjOjpVKD-5L4J6X7w</td>\n",
       "      <td>0</td>\n",
       "      <td>0</td>\n",
       "      <td>0</td>\n",
       "    </tr>\n",
       "    <tr>\n",
       "      <th>694</th>\n",
       "      <td>4juYmq_YpvdV8HZ1r0AWBw</td>\n",
       "      <td>2011-07-18</td>\n",
       "      <td>JS6RZ9f1NDo1QcbpEoA-bg</td>\n",
       "      <td>4</td>\n",
       "      <td>very nice, classy decor all around, cleaner th...</td>\n",
       "      <td>review</td>\n",
       "      <td>uNbB1uR4EBhmygUc3IfPAw</td>\n",
       "      <td>1</td>\n",
       "      <td>0</td>\n",
       "      <td>4</td>\n",
       "    </tr>\n",
       "    <tr>\n",
       "      <th>728</th>\n",
       "      <td>R4zcw0jq-gMgDtPyCjwnew</td>\n",
       "      <td>2012-08-18</td>\n",
       "      <td>W31rbleIX9NdRdkEBdEO_Q</td>\n",
       "      <td>5</td>\n",
       "      <td>the best fish tacos, period!  and i hate chain...</td>\n",
       "      <td>review</td>\n",
       "      <td>ZKz2htCNEjDUPqiImJhHrA</td>\n",
       "      <td>0</td>\n",
       "      <td>0</td>\n",
       "      <td>0</td>\n",
       "    </tr>\n",
       "    <tr>\n",
       "      <th>755</th>\n",
       "      <td>fZWVI2Bjk6wJoRUB0s4Pzg</td>\n",
       "      <td>2010-12-15</td>\n",
       "      <td>EMYmuTlyeNBy5QB9PN1HWw</td>\n",
       "      <td>2</td>\n",
       "      <td>it depends on what you're looking for i guess....</td>\n",
       "      <td>review</td>\n",
       "      <td>nDBly08j5URmrHQ2JCbyiw</td>\n",
       "      <td>1</td>\n",
       "      <td>2</td>\n",
       "      <td>2</td>\n",
       "    </tr>\n",
       "    <tr>\n",
       "      <th>761</th>\n",
       "      <td>TKJ2qE4NQfTBvekYs7JkGg</td>\n",
       "      <td>2012-03-11</td>\n",
       "      <td>ALGhOlSh__RuRj-f7EHZyw</td>\n",
       "      <td>4</td>\n",
       "      <td>horseback riding for an hour and a half, my @$...</td>\n",
       "      <td>review</td>\n",
       "      <td>gDl4dMYPpuuIaNAW_Bh3qQ</td>\n",
       "      <td>0</td>\n",
       "      <td>0</td>\n",
       "      <td>1</td>\n",
       "    </tr>\n",
       "    <tr>\n",
       "      <th>792</th>\n",
       "      <td>LxNehlnStQY_rxEwiPof_g</td>\n",
       "      <td>2011-06-01</td>\n",
       "      <td>PNHcsA9aGOjDQkT_lSSbmw</td>\n",
       "      <td>5</td>\n",
       "      <td>even though i've rarely had anything else on t...</td>\n",
       "      <td>review</td>\n",
       "      <td>SWoWXML68esw-UhHRjLBQQ</td>\n",
       "      <td>1</td>\n",
       "      <td>1</td>\n",
       "      <td>1</td>\n",
       "    </tr>\n",
       "    <tr>\n",
       "      <th>806</th>\n",
       "      <td>SMpL3z4FLF07bRA6-y22JQ</td>\n",
       "      <td>2007-11-13</td>\n",
       "      <td>gjWVccNw6kB2UycZAEzyQg</td>\n",
       "      <td>4</td>\n",
       "      <td>i hate to find out that there was another loca...</td>\n",
       "      <td>review</td>\n",
       "      <td>jfXT_8J_EQnJVa4sJ3z6hg</td>\n",
       "      <td>2</td>\n",
       "      <td>0</td>\n",
       "      <td>1</td>\n",
       "    </tr>\n",
       "    <tr>\n",
       "      <th>827</th>\n",
       "      <td>W0eocyGliMbg8NScqERaiA</td>\n",
       "      <td>2012-01-22</td>\n",
       "      <td>1T2IYVRiG0yz8u_DJgWJsQ</td>\n",
       "      <td>4</td>\n",
       "      <td>going to keep this review short and to the poi...</td>\n",
       "      <td>review</td>\n",
       "      <td>Uf-jZhhEYRIFxzyT1d5R6Q</td>\n",
       "      <td>0</td>\n",
       "      <td>0</td>\n",
       "      <td>1</td>\n",
       "    </tr>\n",
       "    <tr>\n",
       "      <th>831</th>\n",
       "      <td>3H2ttTM2aSIaZ6FTjHwDQQ</td>\n",
       "      <td>2010-02-07</td>\n",
       "      <td>FUQ-lJndG7xgxLrEFX-u-g</td>\n",
       "      <td>5</td>\n",
       "      <td>expect no com tam-foolery here....this joint i...</td>\n",
       "      <td>review</td>\n",
       "      <td>LcWp2WChE9HpqdMEM8D2VQ</td>\n",
       "      <td>1</td>\n",
       "      <td>0</td>\n",
       "      <td>0</td>\n",
       "    </tr>\n",
       "    <tr>\n",
       "      <th>842</th>\n",
       "      <td>Rx9WPIaYCBquFBC563RjYg</td>\n",
       "      <td>2009-04-19</td>\n",
       "      <td>ukSAApxk4-vjK1Jt6NXRgg</td>\n",
       "      <td>1</td>\n",
       "      <td>boy is the name a temptation.seriously :)  i'l...</td>\n",
       "      <td>review</td>\n",
       "      <td>N3L6SDymSRkYQtTiSDmXSg</td>\n",
       "      <td>1</td>\n",
       "      <td>4</td>\n",
       "      <td>3</td>\n",
       "    </tr>\n",
       "    <tr>\n",
       "      <th>...</th>\n",
       "      <td>...</td>\n",
       "      <td>...</td>\n",
       "      <td>...</td>\n",
       "      <td>...</td>\n",
       "      <td>...</td>\n",
       "      <td>...</td>\n",
       "      <td>...</td>\n",
       "      <td>...</td>\n",
       "      <td>...</td>\n",
       "      <td>...</td>\n",
       "    </tr>\n",
       "    <tr>\n",
       "      <th>9234</th>\n",
       "      <td>0UZ31UTcOLRKuqPqPe-VBA</td>\n",
       "      <td>2008-04-02</td>\n",
       "      <td>2IKCbs8HL2XQyjCoC0EvOw</td>\n",
       "      <td>4</td>\n",
       "      <td>hey, its difficult to find anything particular...</td>\n",
       "      <td>review</td>\n",
       "      <td>-F32Vl8Rk4dwsmk0f2wRIw</td>\n",
       "      <td>2</td>\n",
       "      <td>1</td>\n",
       "      <td>3</td>\n",
       "    </tr>\n",
       "    <tr>\n",
       "      <th>9244</th>\n",
       "      <td>yKbXWo_6VlS3mD_RcPquog</td>\n",
       "      <td>2009-08-25</td>\n",
       "      <td>2LIxNbpGl--S1u2sywq90g</td>\n",
       "      <td>3</td>\n",
       "      <td>you are seeing a continuing trend here. when i...</td>\n",
       "      <td>review</td>\n",
       "      <td>jQxxHLXLbFsNYNWNdSjRKQ</td>\n",
       "      <td>1</td>\n",
       "      <td>1</td>\n",
       "      <td>3</td>\n",
       "    </tr>\n",
       "    <tr>\n",
       "      <th>9273</th>\n",
       "      <td>Mng1FUcW-xRSdsDkowQm2Q</td>\n",
       "      <td>2007-09-17</td>\n",
       "      <td>SV3tciZCCvGa6N-LVnZ5VA</td>\n",
       "      <td>5</td>\n",
       "      <td>gourmet markets, to me, are like candy shops t...</td>\n",
       "      <td>review</td>\n",
       "      <td>C8ZTiwa7qWoPSMIivTeSfw</td>\n",
       "      <td>14</td>\n",
       "      <td>18</td>\n",
       "      <td>13</td>\n",
       "    </tr>\n",
       "    <tr>\n",
       "      <th>9290</th>\n",
       "      <td>2unQHR9uaRxk3dsW6f3MGA</td>\n",
       "      <td>2010-01-24</td>\n",
       "      <td>vFX3raAkep6PmTemBJHU7Q</td>\n",
       "      <td>5</td>\n",
       "      <td>this is my parents' favorite place to eat when...</td>\n",
       "      <td>review</td>\n",
       "      <td>bWNjCQyTJttofo3dKtTTPQ</td>\n",
       "      <td>0</td>\n",
       "      <td>0</td>\n",
       "      <td>0</td>\n",
       "    </tr>\n",
       "    <tr>\n",
       "      <th>9350</th>\n",
       "      <td>Lvf3N3cfLAmOc5y8Eg8KDg</td>\n",
       "      <td>2009-05-25</td>\n",
       "      <td>GT2qspVs31iYw09RUyJWkw</td>\n",
       "      <td>5</td>\n",
       "      <td>this is a great place in an extremity of the v...</td>\n",
       "      <td>review</td>\n",
       "      <td>9mjItdXixKECanLV6RBIrw</td>\n",
       "      <td>1</td>\n",
       "      <td>0</td>\n",
       "      <td>1</td>\n",
       "    </tr>\n",
       "    <tr>\n",
       "      <th>9379</th>\n",
       "      <td>bEQjf7c-9qkNWgXvriSGZw</td>\n",
       "      <td>2008-06-05</td>\n",
       "      <td>vxjva9QY87FjmgQZxcum2Q</td>\n",
       "      <td>3</td>\n",
       "      <td>i've eaten breakfast here a few times and alwa...</td>\n",
       "      <td>review</td>\n",
       "      <td>HP_xZYNC5XK-VyNrnHbtRQ</td>\n",
       "      <td>1</td>\n",
       "      <td>1</td>\n",
       "      <td>1</td>\n",
       "    </tr>\n",
       "    <tr>\n",
       "      <th>9415</th>\n",
       "      <td>bRk44ShCT0osos-1xaTRyA</td>\n",
       "      <td>2011-01-14</td>\n",
       "      <td>8GwkYT8MC_Imd7bISh_FiA</td>\n",
       "      <td>3</td>\n",
       "      <td>if i could there would be two reviews here. th...</td>\n",
       "      <td>review</td>\n",
       "      <td>M31fQaXjn54y-Rx8ADjldA</td>\n",
       "      <td>0</td>\n",
       "      <td>0</td>\n",
       "      <td>0</td>\n",
       "    </tr>\n",
       "    <tr>\n",
       "      <th>9424</th>\n",
       "      <td>ZLVX6bQt8HJH5d4pq5EJGQ</td>\n",
       "      <td>2012-07-10</td>\n",
       "      <td>mN_1gTFafPqH0hrzvUc83g</td>\n",
       "      <td>1</td>\n",
       "      <td>until they get their quality under control, we...</td>\n",
       "      <td>review</td>\n",
       "      <td>bkv0EMVYiwWf6ULKbEdqRw</td>\n",
       "      <td>0</td>\n",
       "      <td>0</td>\n",
       "      <td>2</td>\n",
       "    </tr>\n",
       "    <tr>\n",
       "      <th>9433</th>\n",
       "      <td>_HTE4pOKeJC7kcxiCF9vTA</td>\n",
       "      <td>2009-11-03</td>\n",
       "      <td>yTDqNtZ5Ye7Jrv3h6tG_dg</td>\n",
       "      <td>5</td>\n",
       "      <td>i don't have much time to write this, but i do...</td>\n",
       "      <td>review</td>\n",
       "      <td>Cc4k7m1_CWeAz5JWSkoVpw</td>\n",
       "      <td>1</td>\n",
       "      <td>0</td>\n",
       "      <td>1</td>\n",
       "    </tr>\n",
       "    <tr>\n",
       "      <th>9441</th>\n",
       "      <td>0ONypOKIhttBz9IJzBE8jg</td>\n",
       "      <td>2012-10-05</td>\n",
       "      <td>KFvySZqGW0EFPGJ6MZo6JA</td>\n",
       "      <td>1</td>\n",
       "      <td>it was my birthday and my wife, her mom, a dea...</td>\n",
       "      <td>review</td>\n",
       "      <td>WORShVhq7IwMY4iizc1dAA</td>\n",
       "      <td>1</td>\n",
       "      <td>0</td>\n",
       "      <td>2</td>\n",
       "    </tr>\n",
       "    <tr>\n",
       "      <th>9443</th>\n",
       "      <td>Nz_AasmpsQ8MLSqhCTRVoA</td>\n",
       "      <td>2012-02-21</td>\n",
       "      <td>iJ5MEi9jzAthoK45BpuCRw</td>\n",
       "      <td>4</td>\n",
       "      <td>i only recently discovered that i do not hate ...</td>\n",
       "      <td>review</td>\n",
       "      <td>g2ihR0ZFKCEnKB7YPviuJQ</td>\n",
       "      <td>1</td>\n",
       "      <td>0</td>\n",
       "      <td>1</td>\n",
       "    </tr>\n",
       "    <tr>\n",
       "      <th>9491</th>\n",
       "      <td>5hFnyiEboorArk7cbCYeXQ</td>\n",
       "      <td>2009-09-01</td>\n",
       "      <td>RS5693YyrmMzDvrempbizQ</td>\n",
       "      <td>4</td>\n",
       "      <td>seriously, better than any other gyro place i ...</td>\n",
       "      <td>review</td>\n",
       "      <td>79JSvNNh7qbNqdCYQRgAww</td>\n",
       "      <td>1</td>\n",
       "      <td>0</td>\n",
       "      <td>0</td>\n",
       "    </tr>\n",
       "    <tr>\n",
       "      <th>9504</th>\n",
       "      <td>OHFdbNVrnngg3u_Xn5nYfA</td>\n",
       "      <td>2009-03-09</td>\n",
       "      <td>Dx_ytdkd7sIEQGsWg_R_qw</td>\n",
       "      <td>5</td>\n",
       "      <td>i've been dr. castilla's office for 7 years.  ...</td>\n",
       "      <td>review</td>\n",
       "      <td>sGioMpXmP0HS4t1DKr3eBw</td>\n",
       "      <td>1</td>\n",
       "      <td>0</td>\n",
       "      <td>2</td>\n",
       "    </tr>\n",
       "    <tr>\n",
       "      <th>9512</th>\n",
       "      <td>fdpkvInTuPyct43snlBG-A</td>\n",
       "      <td>2012-08-11</td>\n",
       "      <td>Z9dFyPbavhJJHFpR7gKEFA</td>\n",
       "      <td>5</td>\n",
       "      <td>thank you jen &amp; mike for making what i expecte...</td>\n",
       "      <td>review</td>\n",
       "      <td>zoXnswGnM7ZJ0pGNZ96CSQ</td>\n",
       "      <td>0</td>\n",
       "      <td>0</td>\n",
       "      <td>1</td>\n",
       "    </tr>\n",
       "    <tr>\n",
       "      <th>9568</th>\n",
       "      <td>hW0Ne_HTHEAgGF1rAdmR-g</td>\n",
       "      <td>2009-04-29</td>\n",
       "      <td>M_tOh02hkaO4AwBtV6j0KA</td>\n",
       "      <td>3</td>\n",
       "      <td>when you walk into sky harbor, you are bombard...</td>\n",
       "      <td>review</td>\n",
       "      <td>WZgoM8UuzxjZf1AaWx3qZQ</td>\n",
       "      <td>3</td>\n",
       "      <td>3</td>\n",
       "      <td>5</td>\n",
       "    </tr>\n",
       "    <tr>\n",
       "      <th>9569</th>\n",
       "      <td>f67EBuoqqgW4h1OcG_K7kA</td>\n",
       "      <td>2010-12-01</td>\n",
       "      <td>cu1LInwi1lcWkHNlG0ZFMQ</td>\n",
       "      <td>4</td>\n",
       "      <td>it was early on a saturday, was greeted warmly...</td>\n",
       "      <td>review</td>\n",
       "      <td>_Q8KWRMHyXzVB0YeRfA4KA</td>\n",
       "      <td>0</td>\n",
       "      <td>0</td>\n",
       "      <td>0</td>\n",
       "    </tr>\n",
       "    <tr>\n",
       "      <th>9571</th>\n",
       "      <td>mHfIU6fIdk0Gujqx-XIKNQ</td>\n",
       "      <td>2012-02-21</td>\n",
       "      <td>2um6BaGhCGfQB_lIGCN3lA</td>\n",
       "      <td>1</td>\n",
       "      <td>noooo!!! \\ndon't think about it!!!!\\n\\nhad my ...</td>\n",
       "      <td>review</td>\n",
       "      <td>m2LgIRJwLqTUFIjh94fqLg</td>\n",
       "      <td>1</td>\n",
       "      <td>0</td>\n",
       "      <td>1</td>\n",
       "    </tr>\n",
       "    <tr>\n",
       "      <th>9654</th>\n",
       "      <td>AaKlegu7gmOCD4rEESF76Q</td>\n",
       "      <td>2010-08-20</td>\n",
       "      <td>3t6cS2HNdch4v7R3cTTYZA</td>\n",
       "      <td>4</td>\n",
       "      <td>lunch was delicious, as usual. i had the brusc...</td>\n",
       "      <td>review</td>\n",
       "      <td>T6D4ay1ID9MCTaN5-2g-HQ</td>\n",
       "      <td>0</td>\n",
       "      <td>0</td>\n",
       "      <td>0</td>\n",
       "    </tr>\n",
       "    <tr>\n",
       "      <th>9675</th>\n",
       "      <td>5N9bWl5zWuDX-Q1YpTf2LQ</td>\n",
       "      <td>2007-08-23</td>\n",
       "      <td>cPQtzuktnu7Mg9ZmPGlfsg</td>\n",
       "      <td>2</td>\n",
       "      <td>pretty lame subs and sandwiches. worked close ...</td>\n",
       "      <td>review</td>\n",
       "      <td>NoxjYVkRQOQXZm7rDvhj-Q</td>\n",
       "      <td>0</td>\n",
       "      <td>0</td>\n",
       "      <td>0</td>\n",
       "    </tr>\n",
       "    <tr>\n",
       "      <th>9680</th>\n",
       "      <td>rIonUa02zMz_ki8eF-Adug</td>\n",
       "      <td>2012-06-16</td>\n",
       "      <td>mutQE6UfjLIpJ8Wozpq5UA</td>\n",
       "      <td>2</td>\n",
       "      <td>this review is for the chain in general. the l...</td>\n",
       "      <td>review</td>\n",
       "      <td>KLekdmo4FdNnP0huUhzZNw</td>\n",
       "      <td>0</td>\n",
       "      <td>0</td>\n",
       "      <td>0</td>\n",
       "    </tr>\n",
       "    <tr>\n",
       "      <th>9737</th>\n",
       "      <td>AaKlegu7gmOCD4rEESF76Q</td>\n",
       "      <td>2012-06-27</td>\n",
       "      <td>WKG7V6MbL7c8D0Fv0Y6jbw</td>\n",
       "      <td>4</td>\n",
       "      <td>i really like maizie's, but unfortunately will...</td>\n",
       "      <td>review</td>\n",
       "      <td>TA6CcCUag4lftPJDuhhFuw</td>\n",
       "      <td>0</td>\n",
       "      <td>0</td>\n",
       "      <td>2</td>\n",
       "    </tr>\n",
       "    <tr>\n",
       "      <th>9775</th>\n",
       "      <td>F0ZXhPJD8yNS3xzTxsichg</td>\n",
       "      <td>2011-12-03</td>\n",
       "      <td>aHDpvV2q2h0R6c_UVZxOow</td>\n",
       "      <td>4</td>\n",
       "      <td>surprisingly nice arean, given that the fans i...</td>\n",
       "      <td>review</td>\n",
       "      <td>GoeN6MxXAusK9oYAaq1fbw</td>\n",
       "      <td>0</td>\n",
       "      <td>0</td>\n",
       "      <td>0</td>\n",
       "    </tr>\n",
       "    <tr>\n",
       "      <th>9819</th>\n",
       "      <td>W0eocyGliMbg8NScqERaiA</td>\n",
       "      <td>2012-03-25</td>\n",
       "      <td>jqfNhsccqqG7SDaLIJ4-fw</td>\n",
       "      <td>3</td>\n",
       "      <td>this place was kinda cool. we first got there ...</td>\n",
       "      <td>review</td>\n",
       "      <td>9IKE3JVdWasnvYkjclqXYw</td>\n",
       "      <td>0</td>\n",
       "      <td>0</td>\n",
       "      <td>0</td>\n",
       "    </tr>\n",
       "    <tr>\n",
       "      <th>9831</th>\n",
       "      <td>eHcQzL5eebqvKrLW5q283w</td>\n",
       "      <td>2012-03-29</td>\n",
       "      <td>rk9YoJ4vA73O0YT9Z-0CUg</td>\n",
       "      <td>4</td>\n",
       "      <td>i'm basically a chain-hater (well, i dont hate...</td>\n",
       "      <td>review</td>\n",
       "      <td>DfJ8B8T1fgNA6_ZT-aeUlQ</td>\n",
       "      <td>0</td>\n",
       "      <td>0</td>\n",
       "      <td>0</td>\n",
       "    </tr>\n",
       "    <tr>\n",
       "      <th>9872</th>\n",
       "      <td>3HciJAVduCRoPDdzgh7cAA</td>\n",
       "      <td>2009-02-18</td>\n",
       "      <td>i7UwyQxJ1NqtiYSul5lICA</td>\n",
       "      <td>2</td>\n",
       "      <td>i used to be an avid shopper/seller at buffalo...</td>\n",
       "      <td>review</td>\n",
       "      <td>YavFbDG7DUOTXJBLxpq97A</td>\n",
       "      <td>2</td>\n",
       "      <td>0</td>\n",
       "      <td>3</td>\n",
       "    </tr>\n",
       "    <tr>\n",
       "      <th>9903</th>\n",
       "      <td>YDpzUg_np9KkG0702jACwg</td>\n",
       "      <td>2009-02-17</td>\n",
       "      <td>n5x6wuebwVL7_dQ4n5OCtA</td>\n",
       "      <td>5</td>\n",
       "      <td>as a bonafide recovering art bitch, i give thi...</td>\n",
       "      <td>review</td>\n",
       "      <td>mfvezpz6ohS0NQk3DZdvqQ</td>\n",
       "      <td>1</td>\n",
       "      <td>2</td>\n",
       "      <td>2</td>\n",
       "    </tr>\n",
       "    <tr>\n",
       "      <th>9915</th>\n",
       "      <td>pwpl-rxwNRQdgqFz_-qMPg</td>\n",
       "      <td>2011-11-21</td>\n",
       "      <td>vXNjIF49bZ7zFqEYgO5QTw</td>\n",
       "      <td>5</td>\n",
       "      <td>this place does not disappoint.  i've been her...</td>\n",
       "      <td>review</td>\n",
       "      <td>fJGWSgGsvb6leJzOuE2O3Q</td>\n",
       "      <td>0</td>\n",
       "      <td>0</td>\n",
       "      <td>0</td>\n",
       "    </tr>\n",
       "    <tr>\n",
       "      <th>9921</th>\n",
       "      <td>2W2AwR-5z_jQ0Ihg9A5cPg</td>\n",
       "      <td>2011-02-20</td>\n",
       "      <td>pK3RNF0-t9Wq5p7OJ_1huA</td>\n",
       "      <td>1</td>\n",
       "      <td>this place sucks!!!!!  it really deserves no s...</td>\n",
       "      <td>review</td>\n",
       "      <td>s7Tm9oYWqRlBm5ex2OQ1nw</td>\n",
       "      <td>1</td>\n",
       "      <td>2</td>\n",
       "      <td>1</td>\n",
       "    </tr>\n",
       "    <tr>\n",
       "      <th>9967</th>\n",
       "      <td>qNqvJIH4_KENAajUfRZKoA</td>\n",
       "      <td>2012-10-29</td>\n",
       "      <td>UoxTfwbLylXWpwrn8tYEeQ</td>\n",
       "      <td>3</td>\n",
       "      <td>i thought i had reviewed this location already...</td>\n",
       "      <td>review</td>\n",
       "      <td>VPXgY9lGJF3XC4ZpusxNuA</td>\n",
       "      <td>1</td>\n",
       "      <td>1</td>\n",
       "      <td>1</td>\n",
       "    </tr>\n",
       "    <tr>\n",
       "      <th>9997</th>\n",
       "      <td>53YGfwmbW73JhFiemNeyzQ</td>\n",
       "      <td>2010-11-16</td>\n",
       "      <td>jyznYkIbpqVmlsZxSDSypA</td>\n",
       "      <td>4</td>\n",
       "      <td>i recently visited olive and ivy for business ...</td>\n",
       "      <td>review</td>\n",
       "      <td>gGbN1aKQHMgfQZkqlsuwzg</td>\n",
       "      <td>0</td>\n",
       "      <td>0</td>\n",
       "      <td>0</td>\n",
       "    </tr>\n",
       "  </tbody>\n",
       "</table>\n",
       "<p>392 rows × 10 columns</p>\n",
       "</div>"
      ],
      "text/plain": [
       "                       bizid       date                   revid  stars  \\\n",
       "41    qsThMZ3lXWYLN4t08ScsNA 2009-03-13  fuY6Bf4EtW3UwrdLQJa9_Q      4   \n",
       "56    tA2DT7CGQPzgA6tTcTkXDw 2009-09-02  VyX6x7wnThr9g9Z6VBDIgA      2   \n",
       "147   MLPUSpkbWAvr9gJOELKqmQ 2011-03-24  hQUn4oL-6qnjma8indhLNw      2   \n",
       "188   pdxyZdnwltQXcu-kD5rpXQ 2007-01-22  kUw0d4RX-tp32zmP-XwkXw      5   \n",
       "212   yPJFfglhMHAKciUpjTmgBg 2011-12-27  TkTbb-JkRsdtD5wplSGEtw      1   \n",
       "289   l3yL2rQ6PoFBQ06RLczn9w 2010-08-21  Cluf-ijd2Ubr0hoVjLXoSQ      1   \n",
       "304   B8ujMtvvpHyEQ2r_QlAT2w 2009-02-04  lkXM8gxdU1qQVCHggDfsyQ      4   \n",
       "314   eR_vyBCRhMQKhmHbxFkPVw 2008-12-11  yt_CpzmwoSv3NPGNcHzI-w      4   \n",
       "382   IVc23uY-36WUNYoIbz42Fg 2012-12-13  ig5kYd1TvqHtnDu_AJH13g      5   \n",
       "401   OOCLVeqqMFfSnKa7liv0Kw 2012-11-04  9NrXM5p0sssVJiVgvFmwdw      4   \n",
       "406   bc-lE-wGVAsUrX-kJhtY-Q 2008-04-01  Tx0t7Jr6K7UicgbWympFsA      2   \n",
       "425   HhNY3X0kyrN5682La6N6Cg 2011-05-12  4qZB6JCWSeUwWoCPu5_UWA      5   \n",
       "437   Xq9tkiHhyN_aBFswFeGLvA 2011-03-21  cVDmpkto6Fs-LwCkxKPx3g      2   \n",
       "482   81a6sTDzNzsRsoUETeoBRA 2009-06-09  BuOszvE0-Edv9xbFtmXt8A      2   \n",
       "489   x_2kKQYLSRsa2OgPmGgWCw 2008-04-26  b9kdLLhQR8QulzYYMVb5Iw      4   \n",
       "596   cof7qW-PD0M7Jykclg48oQ 2008-06-10  3zMROSt7HNbyq7Lp-MzaWA      4   \n",
       "604   KGX7O-_WqOIy9o7u9NOa9A 2010-05-05  mf3osxL0XKEwcJ37tWzOMg      5   \n",
       "614   UUssRgBCO_riWg3chbv9Zg 2011-12-27  gNepvdQlS4feEB92g33qVw      2   \n",
       "620   FGePlnlKXHxBrxYMNGtdAw 2011-03-25  mIhNUhDZqzUM6xstFv7lGg      5   \n",
       "644   9Vu9KhK2-kBSM-FXvxXGNg 2009-11-11  mD0e-9jhmbG13jNxYcIg7Q      3   \n",
       "673   xsSnuGCCJD4OgWnOZ0zB4A 2011-10-28  8u4Zx8HOdKGIUdFzjqqXFw      3   \n",
       "694   4juYmq_YpvdV8HZ1r0AWBw 2011-07-18  JS6RZ9f1NDo1QcbpEoA-bg      4   \n",
       "728   R4zcw0jq-gMgDtPyCjwnew 2012-08-18  W31rbleIX9NdRdkEBdEO_Q      5   \n",
       "755   fZWVI2Bjk6wJoRUB0s4Pzg 2010-12-15  EMYmuTlyeNBy5QB9PN1HWw      2   \n",
       "761   TKJ2qE4NQfTBvekYs7JkGg 2012-03-11  ALGhOlSh__RuRj-f7EHZyw      4   \n",
       "792   LxNehlnStQY_rxEwiPof_g 2011-06-01  PNHcsA9aGOjDQkT_lSSbmw      5   \n",
       "806   SMpL3z4FLF07bRA6-y22JQ 2007-11-13  gjWVccNw6kB2UycZAEzyQg      4   \n",
       "827   W0eocyGliMbg8NScqERaiA 2012-01-22  1T2IYVRiG0yz8u_DJgWJsQ      4   \n",
       "831   3H2ttTM2aSIaZ6FTjHwDQQ 2010-02-07  FUQ-lJndG7xgxLrEFX-u-g      5   \n",
       "842   Rx9WPIaYCBquFBC563RjYg 2009-04-19  ukSAApxk4-vjK1Jt6NXRgg      1   \n",
       "...                      ...        ...                     ...    ...   \n",
       "9234  0UZ31UTcOLRKuqPqPe-VBA 2008-04-02  2IKCbs8HL2XQyjCoC0EvOw      4   \n",
       "9244  yKbXWo_6VlS3mD_RcPquog 2009-08-25  2LIxNbpGl--S1u2sywq90g      3   \n",
       "9273  Mng1FUcW-xRSdsDkowQm2Q 2007-09-17  SV3tciZCCvGa6N-LVnZ5VA      5   \n",
       "9290  2unQHR9uaRxk3dsW6f3MGA 2010-01-24  vFX3raAkep6PmTemBJHU7Q      5   \n",
       "9350  Lvf3N3cfLAmOc5y8Eg8KDg 2009-05-25  GT2qspVs31iYw09RUyJWkw      5   \n",
       "9379  bEQjf7c-9qkNWgXvriSGZw 2008-06-05  vxjva9QY87FjmgQZxcum2Q      3   \n",
       "9415  bRk44ShCT0osos-1xaTRyA 2011-01-14  8GwkYT8MC_Imd7bISh_FiA      3   \n",
       "9424  ZLVX6bQt8HJH5d4pq5EJGQ 2012-07-10  mN_1gTFafPqH0hrzvUc83g      1   \n",
       "9433  _HTE4pOKeJC7kcxiCF9vTA 2009-11-03  yTDqNtZ5Ye7Jrv3h6tG_dg      5   \n",
       "9441  0ONypOKIhttBz9IJzBE8jg 2012-10-05  KFvySZqGW0EFPGJ6MZo6JA      1   \n",
       "9443  Nz_AasmpsQ8MLSqhCTRVoA 2012-02-21  iJ5MEi9jzAthoK45BpuCRw      4   \n",
       "9491  5hFnyiEboorArk7cbCYeXQ 2009-09-01  RS5693YyrmMzDvrempbizQ      4   \n",
       "9504  OHFdbNVrnngg3u_Xn5nYfA 2009-03-09  Dx_ytdkd7sIEQGsWg_R_qw      5   \n",
       "9512  fdpkvInTuPyct43snlBG-A 2012-08-11  Z9dFyPbavhJJHFpR7gKEFA      5   \n",
       "9568  hW0Ne_HTHEAgGF1rAdmR-g 2009-04-29  M_tOh02hkaO4AwBtV6j0KA      3   \n",
       "9569  f67EBuoqqgW4h1OcG_K7kA 2010-12-01  cu1LInwi1lcWkHNlG0ZFMQ      4   \n",
       "9571  mHfIU6fIdk0Gujqx-XIKNQ 2012-02-21  2um6BaGhCGfQB_lIGCN3lA      1   \n",
       "9654  AaKlegu7gmOCD4rEESF76Q 2010-08-20  3t6cS2HNdch4v7R3cTTYZA      4   \n",
       "9675  5N9bWl5zWuDX-Q1YpTf2LQ 2007-08-23  cPQtzuktnu7Mg9ZmPGlfsg      2   \n",
       "9680  rIonUa02zMz_ki8eF-Adug 2012-06-16  mutQE6UfjLIpJ8Wozpq5UA      2   \n",
       "9737  AaKlegu7gmOCD4rEESF76Q 2012-06-27  WKG7V6MbL7c8D0Fv0Y6jbw      4   \n",
       "9775  F0ZXhPJD8yNS3xzTxsichg 2011-12-03  aHDpvV2q2h0R6c_UVZxOow      4   \n",
       "9819  W0eocyGliMbg8NScqERaiA 2012-03-25  jqfNhsccqqG7SDaLIJ4-fw      3   \n",
       "9831  eHcQzL5eebqvKrLW5q283w 2012-03-29  rk9YoJ4vA73O0YT9Z-0CUg      4   \n",
       "9872  3HciJAVduCRoPDdzgh7cAA 2009-02-18  i7UwyQxJ1NqtiYSul5lICA      2   \n",
       "9903  YDpzUg_np9KkG0702jACwg 2009-02-17  n5x6wuebwVL7_dQ4n5OCtA      5   \n",
       "9915  pwpl-rxwNRQdgqFz_-qMPg 2011-11-21  vXNjIF49bZ7zFqEYgO5QTw      5   \n",
       "9921  2W2AwR-5z_jQ0Ihg9A5cPg 2011-02-20  pK3RNF0-t9Wq5p7OJ_1huA      1   \n",
       "9967  qNqvJIH4_KENAajUfRZKoA 2012-10-29  UoxTfwbLylXWpwrn8tYEeQ      3   \n",
       "9997  53YGfwmbW73JhFiemNeyzQ 2010-11-16  jyznYkIbpqVmlsZxSDSypA      4   \n",
       "\n",
       "                                                   text    type  \\\n",
       "41    i really really like frances.  i love most of ...  review   \n",
       "56    i have to add to andrew's review.....\\n\\ni jus...  review   \n",
       "147   went here for the first time a few weeks ago. ...  review   \n",
       "188   screw disneyland- sephora is the happiest plac...  review   \n",
       "212   i had not been to an oregano's in like 10 year...  review   \n",
       "289   i'd say i've been to the clubhouse a few times...  review   \n",
       "304   i didn't pay much attention to this place for ...  review   \n",
       "314   so wednesday evening i needed milk and cat foo...  review   \n",
       "382   i had the best culinary experience of my 8 yea...  review   \n",
       "401   this is an open-air mall.  unlike most malls w...  review   \n",
       "406   this place was so bad on so many levels i'm no...  review   \n",
       "425   i love boba drinks but hate the word \"boba\". i...  review   \n",
       "437   i think all the 5 star reviews are from people...  review   \n",
       "482   yelp has failed me...i went here based on the ...  review   \n",
       "489   4.5 stars\\n\\nok....i just had the most amazing...  review   \n",
       "596   i used to live off this place. they cut their ...  review   \n",
       "604   yes, it is small, yes, it takes time to get yo...  review   \n",
       "614   not impressed. beer was cold, but bar keep was...  review   \n",
       "620   i love you, marquee theatre. \\n\\njust last nig...  review   \n",
       "644   for quick fast food.. this is my choice.. i us...  review   \n",
       "673   really mixed feelings here. met a friend here ...  review   \n",
       "694   very nice, classy decor all around, cleaner th...  review   \n",
       "728   the best fish tacos, period!  and i hate chain...  review   \n",
       "755   it depends on what you're looking for i guess....  review   \n",
       "761   horseback riding for an hour and a half, my @$...  review   \n",
       "792   even though i've rarely had anything else on t...  review   \n",
       "806   i hate to find out that there was another loca...  review   \n",
       "827   going to keep this review short and to the poi...  review   \n",
       "831   expect no com tam-foolery here....this joint i...  review   \n",
       "842   boy is the name a temptation.seriously :)  i'l...  review   \n",
       "...                                                 ...     ...   \n",
       "9234  hey, its difficult to find anything particular...  review   \n",
       "9244  you are seeing a continuing trend here. when i...  review   \n",
       "9273  gourmet markets, to me, are like candy shops t...  review   \n",
       "9290  this is my parents' favorite place to eat when...  review   \n",
       "9350  this is a great place in an extremity of the v...  review   \n",
       "9379  i've eaten breakfast here a few times and alwa...  review   \n",
       "9415  if i could there would be two reviews here. th...  review   \n",
       "9424  until they get their quality under control, we...  review   \n",
       "9433  i don't have much time to write this, but i do...  review   \n",
       "9441  it was my birthday and my wife, her mom, a dea...  review   \n",
       "9443  i only recently discovered that i do not hate ...  review   \n",
       "9491  seriously, better than any other gyro place i ...  review   \n",
       "9504  i've been dr. castilla's office for 7 years.  ...  review   \n",
       "9512  thank you jen & mike for making what i expecte...  review   \n",
       "9568  when you walk into sky harbor, you are bombard...  review   \n",
       "9569  it was early on a saturday, was greeted warmly...  review   \n",
       "9571  noooo!!! \\ndon't think about it!!!!\\n\\nhad my ...  review   \n",
       "9654  lunch was delicious, as usual. i had the brusc...  review   \n",
       "9675  pretty lame subs and sandwiches. worked close ...  review   \n",
       "9680  this review is for the chain in general. the l...  review   \n",
       "9737  i really like maizie's, but unfortunately will...  review   \n",
       "9775  surprisingly nice arean, given that the fans i...  review   \n",
       "9819  this place was kinda cool. we first got there ...  review   \n",
       "9831  i'm basically a chain-hater (well, i dont hate...  review   \n",
       "9872  i used to be an avid shopper/seller at buffalo...  review   \n",
       "9903  as a bonafide recovering art bitch, i give thi...  review   \n",
       "9915  this place does not disappoint.  i've been her...  review   \n",
       "9921  this place sucks!!!!!  it really deserves no s...  review   \n",
       "9967  i thought i had reviewed this location already...  review   \n",
       "9997  i recently visited olive and ivy for business ...  review   \n",
       "\n",
       "                         uid  cool  funny  useful  \n",
       "41    W_QXYA7A0IhMrvbckz7eVg     2      1       2  \n",
       "56    UL9chyH0a4Pj8J_9M6WSpA     1      2       2  \n",
       "147   nH0YyEYTE7RMeAbeERrSQA     1      1       2  \n",
       "188   0CMz8YaO3f8xu4KqQgKb9Q     0      4       0  \n",
       "212   KucBnMrhalzxnD9AWrxwYQ     2      0       4  \n",
       "289   80PHOfM8KOBb7xEQN4C0lg     0      0       0  \n",
       "304   zsBmBMbZhPuWKueEyKoI1Q     0      0       0  \n",
       "314   Ps1Db9zOatoF_76FZNO5CQ     0      0       3  \n",
       "382   aB_1_t8nAUHkS2nAFxcW0A     1      2       1  \n",
       "401   Mb0psF4WQF7gZSuZafVr-g     0      0       0  \n",
       "406   lPaYMDmJbAnv_3pmZH_inw     4      1      10  \n",
       "425   b6CyeouS97Y8YSTi8T2xRg     1      0       4  \n",
       "437   zNR8Q6Fw9UvlVSgxwEy-3Q     3      1      10  \n",
       "482   DeYRUi2YEFYZLZ1ukOGd6w     0      0       0  \n",
       "489   ca2Sa9Enqg2GlWFQ95p8bw     1      0       2  \n",
       "596   Cp-PV8rsypbO-xBrQ6KmQg     3      4       6  \n",
       "604   pcYFt1EjfOizhvRJDiz3AA     1      0       1  \n",
       "614   VaLglvhXegtW1OMF6_Xfag     0      0       0  \n",
       "620   eL2AbD_vXdP57eewFH21lQ     2      1       1  \n",
       "644   sALB8-F04S9VcZMF_GkGUA     1      1       2  \n",
       "673   aidmFfjOjpVKD-5L4J6X7w     0      0       0  \n",
       "694   uNbB1uR4EBhmygUc3IfPAw     1      0       4  \n",
       "728   ZKz2htCNEjDUPqiImJhHrA     0      0       0  \n",
       "755   nDBly08j5URmrHQ2JCbyiw     1      2       2  \n",
       "761   gDl4dMYPpuuIaNAW_Bh3qQ     0      0       1  \n",
       "792   SWoWXML68esw-UhHRjLBQQ     1      1       1  \n",
       "806   jfXT_8J_EQnJVa4sJ3z6hg     2      0       1  \n",
       "827   Uf-jZhhEYRIFxzyT1d5R6Q     0      0       1  \n",
       "831   LcWp2WChE9HpqdMEM8D2VQ     1      0       0  \n",
       "842   N3L6SDymSRkYQtTiSDmXSg     1      4       3  \n",
       "...                      ...   ...    ...     ...  \n",
       "9234  -F32Vl8Rk4dwsmk0f2wRIw     2      1       3  \n",
       "9244  jQxxHLXLbFsNYNWNdSjRKQ     1      1       3  \n",
       "9273  C8ZTiwa7qWoPSMIivTeSfw    14     18      13  \n",
       "9290  bWNjCQyTJttofo3dKtTTPQ     0      0       0  \n",
       "9350  9mjItdXixKECanLV6RBIrw     1      0       1  \n",
       "9379  HP_xZYNC5XK-VyNrnHbtRQ     1      1       1  \n",
       "9415  M31fQaXjn54y-Rx8ADjldA     0      0       0  \n",
       "9424  bkv0EMVYiwWf6ULKbEdqRw     0      0       2  \n",
       "9433  Cc4k7m1_CWeAz5JWSkoVpw     1      0       1  \n",
       "9441  WORShVhq7IwMY4iizc1dAA     1      0       2  \n",
       "9443  g2ihR0ZFKCEnKB7YPviuJQ     1      0       1  \n",
       "9491  79JSvNNh7qbNqdCYQRgAww     1      0       0  \n",
       "9504  sGioMpXmP0HS4t1DKr3eBw     1      0       2  \n",
       "9512  zoXnswGnM7ZJ0pGNZ96CSQ     0      0       1  \n",
       "9568  WZgoM8UuzxjZf1AaWx3qZQ     3      3       5  \n",
       "9569  _Q8KWRMHyXzVB0YeRfA4KA     0      0       0  \n",
       "9571  m2LgIRJwLqTUFIjh94fqLg     1      0       1  \n",
       "9654  T6D4ay1ID9MCTaN5-2g-HQ     0      0       0  \n",
       "9675  NoxjYVkRQOQXZm7rDvhj-Q     0      0       0  \n",
       "9680  KLekdmo4FdNnP0huUhzZNw     0      0       0  \n",
       "9737  TA6CcCUag4lftPJDuhhFuw     0      0       2  \n",
       "9775  GoeN6MxXAusK9oYAaq1fbw     0      0       0  \n",
       "9819  9IKE3JVdWasnvYkjclqXYw     0      0       0  \n",
       "9831  DfJ8B8T1fgNA6_ZT-aeUlQ     0      0       0  \n",
       "9872  YavFbDG7DUOTXJBLxpq97A     2      0       3  \n",
       "9903  mfvezpz6ohS0NQk3DZdvqQ     1      2       2  \n",
       "9915  fJGWSgGsvb6leJzOuE2O3Q     0      0       0  \n",
       "9921  s7Tm9oYWqRlBm5ex2OQ1nw     1      2       1  \n",
       "9967  VPXgY9lGJF3XC4ZpusxNuA     1      1       1  \n",
       "9997  gGbN1aKQHMgfQZkqlsuwzg     0      0       0  \n",
       "\n",
       "[392 rows x 10 columns]"
      ]
     },
     "execution_count": 141,
     "metadata": {},
     "output_type": "execute_result"
    }
   ],
   "source": [
    "    # new features: whether or not the review contains 'love' or 'hate'\n",
    "df.text = df.text.str.lower()\n",
    "df[df.text.str.contains('love') == True]\n",
    "df[df.text.str.contains('hate') == True]"
   ]
  },
  {
   "cell_type": "code",
   "execution_count": 117,
   "metadata": {
    "scrolled": true
   },
   "outputs": [
    {
     "data": {
      "text/plain": [
       "<matplotlib.axes._subplots.AxesSubplot at 0x201db4e0>"
      ]
     },
     "execution_count": 117,
     "metadata": {},
     "output_type": "execute_result"
    },
    {
     "data": {
      "image/png": "[encoded data removed]",
      "text/plain": [
       "<matplotlib.figure.Figure at 0x2070ac88>"
      ]
     },
     "metadata": {},
     "output_type": "display_data"
    }
   ],
   "source": [
    "df[df.text.str.contains('love')].stars.value_counts().sort_index().plot(kind='bar')"
   ]
  },
  {
   "cell_type": "code",
   "execution_count": 118,
   "metadata": {
    "scrolled": true
   },
   "outputs": [
    {
     "data": {
      "text/plain": [
       "<matplotlib.axes._subplots.AxesSubplot at 0x1ff4aa58>"
      ]
     },
     "execution_count": 118,
     "metadata": {},
     "output_type": "execute_result"
    },
    {
     "data": {
      "image/png": "[encoded data removed]",
      "text/plain": [
       "<matplotlib.figure.Figure at 0x1fd30ba8>"
      ]
     },
     "metadata": {},
     "output_type": "display_data"
    }
   ],
   "source": [
    "df[df.text.str.contains('hate')].stars.value_counts().sort_index().plot(kind='bar')"
   ]
  },
  {
   "cell_type": "code",
   "execution_count": 152,
   "metadata": {},
   "outputs": [],
   "source": [
    "    # add new features to the model and calculate RMSE\n",
    "df['text_love'] = df.text.str.contains('love')\n",
    "df['text_hate'] = df.text.str.contains('hate')"
   ]
  },
  {
   "cell_type": "code",
   "execution_count": 154,
   "metadata": {
    "scrolled": true
   },
   "outputs": [
    {
     "data": {
      "text/html": [
       "<div>\n",
       "<style>\n",
       "    .dataframe thead tr:only-child th {\n",
       "        text-align: right;\n",
       "    }\n",
       "\n",
       "    .dataframe thead th {\n",
       "        text-align: left;\n",
       "    }\n",
       "\n",
       "    .dataframe tbody tr th {\n",
       "        vertical-align: top;\n",
       "    }\n",
       "</style>\n",
       "<table border=\"1\" class=\"dataframe\">\n",
       "  <thead>\n",
       "    <tr style=\"text-align: right;\">\n",
       "      <th></th>\n",
       "      <th>bizid</th>\n",
       "      <th>date</th>\n",
       "      <th>revid</th>\n",
       "      <th>stars</th>\n",
       "      <th>text</th>\n",
       "      <th>type</th>\n",
       "      <th>uid</th>\n",
       "      <th>cool</th>\n",
       "      <th>funny</th>\n",
       "      <th>useful</th>\n",
       "      <th>text_love</th>\n",
       "      <th>text_hate</th>\n",
       "    </tr>\n",
       "  </thead>\n",
       "  <tbody>\n",
       "    <tr>\n",
       "      <th>0</th>\n",
       "      <td>9yKzy9PApeiPPOUJEtnvkg</td>\n",
       "      <td>2011-01-26</td>\n",
       "      <td>fWKvX83p0-ka4JS3dc6E5A</td>\n",
       "      <td>5</td>\n",
       "      <td>my wife took me here on my birthday for breakf...</td>\n",
       "      <td>review</td>\n",
       "      <td>rLtl8ZkDX5vH5nAx9C3q5Q</td>\n",
       "      <td>2</td>\n",
       "      <td>0</td>\n",
       "      <td>5</td>\n",
       "      <td>False</td>\n",
       "      <td>False</td>\n",
       "    </tr>\n",
       "    <tr>\n",
       "      <th>1</th>\n",
       "      <td>ZRJwVLyzEJq1VAihDhYiow</td>\n",
       "      <td>2011-07-27</td>\n",
       "      <td>IjZ33sJrzXqU-0X6U8NwyA</td>\n",
       "      <td>5</td>\n",
       "      <td>i have no idea why some people give bad review...</td>\n",
       "      <td>review</td>\n",
       "      <td>0a2KyEL0d3Yb1V6aivbIuQ</td>\n",
       "      <td>0</td>\n",
       "      <td>0</td>\n",
       "      <td>0</td>\n",
       "      <td>False</td>\n",
       "      <td>False</td>\n",
       "    </tr>\n",
       "    <tr>\n",
       "      <th>2</th>\n",
       "      <td>6oRAC4uyJCsJl1X0WZpVSA</td>\n",
       "      <td>2012-06-14</td>\n",
       "      <td>IESLBzqUCLdSzSqm0eCSxQ</td>\n",
       "      <td>4</td>\n",
       "      <td>love the gyro plate. rice is so good and i als...</td>\n",
       "      <td>review</td>\n",
       "      <td>0hT2KtfLiobPvh6cDC8JQg</td>\n",
       "      <td>0</td>\n",
       "      <td>0</td>\n",
       "      <td>1</td>\n",
       "      <td>True</td>\n",
       "      <td>False</td>\n",
       "    </tr>\n",
       "    <tr>\n",
       "      <th>3</th>\n",
       "      <td>_1QQZuf4zZOyFCvXc0o6Vg</td>\n",
       "      <td>2010-05-27</td>\n",
       "      <td>G-WvGaISbqqaMHlNnByodA</td>\n",
       "      <td>5</td>\n",
       "      <td>rosie, dakota, and i love chaparral dog park!!...</td>\n",
       "      <td>review</td>\n",
       "      <td>uZetl9T0NcROGOyFfughhg</td>\n",
       "      <td>1</td>\n",
       "      <td>0</td>\n",
       "      <td>2</td>\n",
       "      <td>True</td>\n",
       "      <td>False</td>\n",
       "    </tr>\n",
       "    <tr>\n",
       "      <th>4</th>\n",
       "      <td>6ozycU1RpktNG2-1BroVtw</td>\n",
       "      <td>2012-01-05</td>\n",
       "      <td>1uJFq2r5QfJG_6ExMRCaGw</td>\n",
       "      <td>5</td>\n",
       "      <td>general manager scott petello is a good egg!!!...</td>\n",
       "      <td>review</td>\n",
       "      <td>vYmM4KTsC8ZfQBg-j5MWkw</td>\n",
       "      <td>0</td>\n",
       "      <td>0</td>\n",
       "      <td>0</td>\n",
       "      <td>False</td>\n",
       "      <td>False</td>\n",
       "    </tr>\n",
       "    <tr>\n",
       "      <th>5</th>\n",
       "      <td>-yxfBYGB6SEqszmxJxd97A</td>\n",
       "      <td>2007-12-13</td>\n",
       "      <td>m2CKSsepBCoRYWxiRUsxAg</td>\n",
       "      <td>4</td>\n",
       "      <td>quiessence is, simply put, beautiful.  full wi...</td>\n",
       "      <td>review</td>\n",
       "      <td>sqYN3lNgvPbPCTRsMFu27g</td>\n",
       "      <td>4</td>\n",
       "      <td>1</td>\n",
       "      <td>3</td>\n",
       "      <td>False</td>\n",
       "      <td>False</td>\n",
       "    </tr>\n",
       "    <tr>\n",
       "      <th>6</th>\n",
       "      <td>zp713qNhx8d9KCJJnrw1xA</td>\n",
       "      <td>2010-02-12</td>\n",
       "      <td>riFQ3vxNpP4rWLk_CSri2A</td>\n",
       "      <td>5</td>\n",
       "      <td>drop what you're doing and drive here. after i...</td>\n",
       "      <td>review</td>\n",
       "      <td>wFweIWhv2fREZV_dYkz_1g</td>\n",
       "      <td>7</td>\n",
       "      <td>4</td>\n",
       "      <td>7</td>\n",
       "      <td>True</td>\n",
       "      <td>False</td>\n",
       "    </tr>\n",
       "    <tr>\n",
       "      <th>7</th>\n",
       "      <td>hW0Ne_HTHEAgGF1rAdmR-g</td>\n",
       "      <td>2012-07-12</td>\n",
       "      <td>JL7GXJ9u4YMx7Rzs05NfiQ</td>\n",
       "      <td>4</td>\n",
       "      <td>luckily, i didn't have to travel far to make m...</td>\n",
       "      <td>review</td>\n",
       "      <td>1ieuYcKS7zeAv_U15AB13A</td>\n",
       "      <td>0</td>\n",
       "      <td>0</td>\n",
       "      <td>1</td>\n",
       "      <td>False</td>\n",
       "      <td>False</td>\n",
       "    </tr>\n",
       "    <tr>\n",
       "      <th>8</th>\n",
       "      <td>wNUea3IXZWD63bbOQaOH-g</td>\n",
       "      <td>2012-08-17</td>\n",
       "      <td>XtnfnYmnJYi71yIuGsXIUA</td>\n",
       "      <td>4</td>\n",
       "      <td>definitely come for happy hour! prices are ama...</td>\n",
       "      <td>review</td>\n",
       "      <td>Vh_DlizgGhSqQh4qfZ2h6A</td>\n",
       "      <td>0</td>\n",
       "      <td>0</td>\n",
       "      <td>0</td>\n",
       "      <td>False</td>\n",
       "      <td>False</td>\n",
       "    </tr>\n",
       "    <tr>\n",
       "      <th>9</th>\n",
       "      <td>nMHhuYan8e3cONo3PornJA</td>\n",
       "      <td>2010-08-11</td>\n",
       "      <td>jJAIXA46pU1swYyRCdfXtQ</td>\n",
       "      <td>5</td>\n",
       "      <td>nobuo shows his unique talents with everything...</td>\n",
       "      <td>review</td>\n",
       "      <td>sUNkXg8-KFtCMQDV6zRzQg</td>\n",
       "      <td>0</td>\n",
       "      <td>0</td>\n",
       "      <td>1</td>\n",
       "      <td>False</td>\n",
       "      <td>False</td>\n",
       "    </tr>\n",
       "  </tbody>\n",
       "</table>\n",
       "</div>"
      ],
      "text/plain": [
       "                    bizid       date                   revid  stars  \\\n",
       "0  9yKzy9PApeiPPOUJEtnvkg 2011-01-26  fWKvX83p0-ka4JS3dc6E5A      5   \n",
       "1  ZRJwVLyzEJq1VAihDhYiow 2011-07-27  IjZ33sJrzXqU-0X6U8NwyA      5   \n",
       "2  6oRAC4uyJCsJl1X0WZpVSA 2012-06-14  IESLBzqUCLdSzSqm0eCSxQ      4   \n",
       "3  _1QQZuf4zZOyFCvXc0o6Vg 2010-05-27  G-WvGaISbqqaMHlNnByodA      5   \n",
       "4  6ozycU1RpktNG2-1BroVtw 2012-01-05  1uJFq2r5QfJG_6ExMRCaGw      5   \n",
       "5  -yxfBYGB6SEqszmxJxd97A 2007-12-13  m2CKSsepBCoRYWxiRUsxAg      4   \n",
       "6  zp713qNhx8d9KCJJnrw1xA 2010-02-12  riFQ3vxNpP4rWLk_CSri2A      5   \n",
       "7  hW0Ne_HTHEAgGF1rAdmR-g 2012-07-12  JL7GXJ9u4YMx7Rzs05NfiQ      4   \n",
       "8  wNUea3IXZWD63bbOQaOH-g 2012-08-17  XtnfnYmnJYi71yIuGsXIUA      4   \n",
       "9  nMHhuYan8e3cONo3PornJA 2010-08-11  jJAIXA46pU1swYyRCdfXtQ      5   \n",
       "\n",
       "                                                text    type  \\\n",
       "0  my wife took me here on my birthday for breakf...  review   \n",
       "1  i have no idea why some people give bad review...  review   \n",
       "2  love the gyro plate. rice is so good and i als...  review   \n",
       "3  rosie, dakota, and i love chaparral dog park!!...  review   \n",
       "4  general manager scott petello is a good egg!!!...  review   \n",
       "5  quiessence is, simply put, beautiful.  full wi...  review   \n",
       "6  drop what you're doing and drive here. after i...  review   \n",
       "7  luckily, i didn't have to travel far to make m...  review   \n",
       "8  definitely come for happy hour! prices are ama...  review   \n",
       "9  nobuo shows his unique talents with everything...  review   \n",
       "\n",
       "                      uid  cool  funny  useful  text_love  text_hate  \n",
       "0  rLtl8ZkDX5vH5nAx9C3q5Q     2      0       5      False      False  \n",
       "1  0a2KyEL0d3Yb1V6aivbIuQ     0      0       0      False      False  \n",
       "2  0hT2KtfLiobPvh6cDC8JQg     0      0       1       True      False  \n",
       "3  uZetl9T0NcROGOyFfughhg     1      0       2       True      False  \n",
       "4  vYmM4KTsC8ZfQBg-j5MWkw     0      0       0      False      False  \n",
       "5  sqYN3lNgvPbPCTRsMFu27g     4      1       3      False      False  \n",
       "6  wFweIWhv2fREZV_dYkz_1g     7      4       7       True      False  \n",
       "7  1ieuYcKS7zeAv_U15AB13A     0      0       1      False      False  \n",
       "8  Vh_DlizgGhSqQh4qfZ2h6A     0      0       0      False      False  \n",
       "9  sUNkXg8-KFtCMQDV6zRzQg     0      0       1      False      False  "
      ]
     },
     "execution_count": 154,
     "metadata": {},
     "output_type": "execute_result"
    }
   ],
   "source": [
    "df.head(10)"
   ]
  },
  {
   "cell_type": "markdown",
   "metadata": {},
   "source": [
    "## Task 8 (Bonus)\n",
    "\n",
    "Compare your best RMSE on the testing set with the RMSE for the \"null model\", which is the model that ignores all features and simply predicts the mean response value in the testing set."
   ]
  },
  {
   "cell_type": "code",
   "execution_count": 18,
   "metadata": {
    "collapsed": true
   },
   "outputs": [],
   "source": [
    "# split the data (outside of the function)\n"
   ]
  },
  {
   "cell_type": "code",
   "execution_count": 19,
   "metadata": {
    "collapsed": true
   },
   "outputs": [],
   "source": [
    "# create a NumPy array with the same shape as y_test\n"
   ]
  },
  {
   "cell_type": "code",
   "execution_count": 20,
   "metadata": {
    "collapsed": true
   },
   "outputs": [],
   "source": [
    "# fill the array with the mean of y_test"
   ]
  },
  {
   "cell_type": "code",
   "execution_count": 21,
   "metadata": {
    "collapsed": true
   },
   "outputs": [],
   "source": [
    "# calculate null RMSE"
   ]
  },
  {
   "cell_type": "markdown",
   "metadata": {},
   "source": [
    "## Task 9 (Bonus)\n",
    "\n",
    "Instead of treating this as a regression problem, treat it as a classification problem and see what testing accuracy you can achieve with KNN."
   ]
  },
  {
   "cell_type": "code",
   "execution_count": 22,
   "metadata": {
    "collapsed": true
   },
   "outputs": [],
   "source": [
    "# import and instantiate KNN"
   ]
  },
  {
   "cell_type": "code",
   "execution_count": 23,
   "metadata": {
    "collapsed": true
   },
   "outputs": [],
   "source": [
    "# classification models will automatically treat the response value (1/2/3/4/5) as unordered categories"
   ]
  },
  {
   "cell_type": "markdown",
   "metadata": {},
   "source": [
    "## Task 10 (Bonus)\n",
    "\n",
    "Figure out how to use linear regression for classification, and compare its classification accuracy with KNN's accuracy."
   ]
  },
  {
   "cell_type": "code",
   "execution_count": 24,
   "metadata": {
    "collapsed": true
   },
   "outputs": [],
   "source": [
    "# use linear regression to make continuous predictions"
   ]
  },
  {
   "cell_type": "code",
   "execution_count": 25,
   "metadata": {
    "collapsed": true
   },
   "outputs": [],
   "source": [
    "# round its predictions to the nearest integer"
   ]
  },
  {
   "cell_type": "code",
   "execution_count": 26,
   "metadata": {
    "collapsed": true
   },
   "outputs": [],
   "source": [
    "# calculate classification accuracy of the rounded predictions"
   ]
  },
  {
   "cell_type": "markdown",
   "metadata": {},
   "source": [
    "## Task 1 (Bonus)\n",
    "\n",
    "Interact with JSON"
   ]
  },
  {
   "cell_type": "code",
   "execution_count": null,
   "metadata": {
    "collapsed": true
   },
   "outputs": [],
   "source": [
    "# read the data from yelp.json into a list of rows\n",
    "# each row is decoded into a dictionary using using json.loads()"
   ]
  },
  {
   "cell_type": "code",
   "execution_count": null,
   "metadata": {
    "collapsed": true
   },
   "outputs": [],
   "source": [
    "# convert the list of dictionaries to a DataFrame"
   ]
  },
  {
   "cell_type": "code",
   "execution_count": null,
   "metadata": {
    "collapsed": true
   },
   "outputs": [],
   "source": [
    "# add DataFrame columns for cool, useful, and funny"
   ]
  },
  {
   "cell_type": "code",
   "execution_count": null,
   "metadata": {
    "collapsed": true
   },
   "outputs": [],
   "source": [
    "# drop the votes column"
   ]
  }
 ],
 "metadata": {
  "anaconda-cloud": {},
  "kernelspec": {
   "display_name": "Python 2",
   "language": "python",
   "name": "python2"
  },
  "language_info": {
   "codemirror_mode": {
    "name": "ipython",
    "version": 2
   },
   "file_extension": ".py",
   "mimetype": "text/x-python",
   "name": "python",
   "nbconvert_exporter": "python",
   "pygments_lexer": "ipython2",
   "version": "2.7.13"
  }
 },
 "nbformat": 4,
 "nbformat_minor": 1
}
